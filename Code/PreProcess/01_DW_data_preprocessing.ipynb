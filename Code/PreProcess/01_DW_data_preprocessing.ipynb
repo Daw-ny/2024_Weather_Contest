{
 "cells": [
  {
   "cell_type": "markdown",
   "metadata": {},
   "source": [
    "# **💁🏻🗨️💁🏻‍♂️안개 예측 EDA code**\n",
    "> **안개량 예측** 경진대회에 오신 여러분 환영합니다! 🎉    \n",
    "> 본 대회에서는 최대 10명이 참여할 수 있는 기상청 주관 날씨 빅데이터 경진대회 입니다.     \n",
    "> 주어진 데이터를 활용하여 안개 상태의 구간을 예측할 수 있는 모델을 만드는 것이 목표입니다!\n",
    "\n",
    "# Contents  \n",
    "  \n",
    "- 필요한 라이브러리 설치  \n",
    "- 데이터 불러오기  \n",
    "- 데이터 결측치 처리하기\n",
    "- 파생변수 생성하기"
   ]
  },
  {
   "cell_type": "markdown",
   "metadata": {},
   "source": [
    "### 1. 필요한 라이브러리 설치"
   ]
  },
  {
   "cell_type": "markdown",
   "metadata": {},
   "source": [
    "- 필요한 라이브러리를 설치한 후 불러옵니다."
   ]
  },
  {
   "cell_type": "code",
   "execution_count": 43,
   "metadata": {},
   "outputs": [],
   "source": [
    "# basic\n",
    "import os, random\n",
    "import pandas as pd\n",
    "import numpy as np\n",
    "\n",
    "# graph\n",
    "import matplotlib\n",
    "import matplotlib.pyplot as plt\n",
    "import seaborn as sns\n",
    "import plotly.express as px\n",
    "import plotly.graph_objects as go\n",
    "\n",
    "# imputator\n",
    "from sklearn.impute import KNNImputer\n",
    "\n",
    "# 경고 무시\n",
    "import warnings\n",
    "warnings.filterwarnings('ignore')\n",
    "\n",
    "# 폰트\n",
    "plt.rcParams['font.family'] = 'NanumSquare'\n",
    "\n",
    "# 마이너스 출력\n",
    "matplotlib.rcParams['axes.unicode_minus'] = False"
   ]
  },
  {
   "cell_type": "code",
   "execution_count": 44,
   "metadata": {},
   "outputs": [],
   "source": [
    "# random seed 고정하기\n",
    "def seed_everything(seed):\n",
    "    random.seed(seed)\n",
    "    os.environ['PYTHONHASHSEED'] = str(seed)\n",
    "    np.random.seed(seed)\n",
    "\n",
    "seed_everything(42) # Seed 고정"
   ]
  },
  {
   "cell_type": "markdown",
   "metadata": {},
   "source": [
    "### 2. 데이터 불러오기\n",
    "- 제공된 데이터를 불러옵니다.\n",
    "\n",
    "> - year : 년도\n",
    "> - month : 월\n",
    "> - day : 일\n",
    "> - hour : 시간\n",
    "> - minute : 분(10분 단위)\n",
    "> - stn_id : 지점 번호\n",
    "> - ws10_deg : 10분 평균 풍향, deg\n",
    "> - ws10_ms : 10분 평균 풍속, m/s\n",
    "> - ta : 1분 평균 기온 10분 주기, 섭씨\n",
    "> - re : 강수 유무 0:무강수, 1:강수\n",
    "> - hm : 1분 평균 상대 습도 10분 주기, %\n",
    "> - sun10 : 1분 일사량 10분 단위 합계, MJ\n",
    "> - ts : 1분 평균 지면온도 10분 주기, 섭씨\n",
    "\n",
    "- test 없는 데이터 값\n",
    "> - vis1 : 1분 평균 시정 10분 주기, m\n",
    "> - class : 시정 구간\n",
    "\n",
    "시정 구간은 다음과 같다.\n",
    "- 0초과 200미만 : 1\n",
    "- 200이상 500미만 : 2\n",
    "- 500이상 1000미만 : 3\n",
    "- 1000이상 : 4\n",
    "- 4번은 맞춰도 스코어가 증가하진 않지만 틀리면 감점"
   ]
  },
  {
   "cell_type": "code",
   "execution_count": 45,
   "metadata": {},
   "outputs": [],
   "source": [
    "# load data\n",
    "train = pd.read_csv('../data/fog_train.csv')\n",
    "test = pd.read_csv('../data/fog_test.csv')"
   ]
  },
  {
   "cell_type": "code",
   "execution_count": 46,
   "metadata": {},
   "outputs": [],
   "source": [
    "# 쓸데없는 열 제거\n",
    "train.drop(['Unnamed: 0'], axis = 1, inplace = True)\n",
    "test.drop(['Unnamed: 0'], axis = 1, inplace = True)\n"
   ]
  },
  {
   "cell_type": "markdown",
   "metadata": {},
   "source": [
    "### 3. 데이터 결측치 처리하기"
   ]
  },
  {
   "cell_type": "code",
   "execution_count": 47,
   "metadata": {},
   "outputs": [],
   "source": [
    "# train 없는 날짜 채우기\n",
    "train = train.append([{'fog_train.year':'J',\n",
    "                'fog_train.month':11, \n",
    "                'fog_train.day':3,\n",
    "                'fog_train.time':18, \n",
    "                'fog_train.minute':20,\n",
    "                'fog_train.stn_id':'EC'}], ignore_index=True, sort=True)"
   ]
  },
  {
   "cell_type": "code",
   "execution_count": 48,
   "metadata": {},
   "outputs": [],
   "source": [
    "# 결측치 nan으로 바꾸기\n",
    "train2 = train.replace(-99, np.nan).replace(-99.9, np.nan).replace(-999.0, np.nan)\n",
    "test2 = test.replace(-99, np.nan).replace(-99.9, np.nan).replace(-999.0, np.nan)"
   ]
  },
  {
   "cell_type": "code",
   "execution_count": 49,
   "metadata": {},
   "outputs": [],
   "source": [
    "# 변수 이름 앞에있는 이상한거 제거하기\n",
    "train2.columns = train2.columns.str.replace('fog_train.', '')\n",
    "test2.columns = test2.columns.str.replace('fog_test.', '')"
   ]
  },
  {
   "cell_type": "markdown",
   "metadata": {},
   "source": [
    "#### 3-1) 지역의 유형별로 나누기"
   ]
  },
  {
   "cell_type": "code",
   "execution_count": 50,
   "metadata": {},
   "outputs": [],
   "source": [
    "# A:내륙, B:내륙산간, C:동해, D:서해, E:남해\n",
    "train2['ground'] = train2['stn_id'].str.slice(0, 1)\n",
    "test2['ground'] = test2['stn_id'].str.slice(0, 1)"
   ]
  },
  {
   "cell_type": "markdown",
   "metadata": {},
   "source": [
    "#### 3-2) 연도를 적합하기 좋은 연도로 바꿔주기\n",
    "- 그래프로 그려보기 편하게 I -> 2020 ~ K -> 2022\n",
    "- 빠르게 바꾸도록 하자"
   ]
  },
  {
   "cell_type": "code",
   "execution_count": 51,
   "metadata": {},
   "outputs": [],
   "source": [
    "# 시간\n",
    "train2['hour'] = train2['time']\n",
    "\n",
    "# I, J, K -> 2020 ~ 2022\n",
    "cri = [\n",
    "    train2['year'] == \"I\",\n",
    "    train2['year'] == \"J\"\n",
    "]\n",
    "con = [\n",
    "    2020,\n",
    "    2021\n",
    "]\n",
    "train2['yeartmp'] = np.select(cri, con, default = 2022)\n",
    "\n",
    "# year 값 바꾸기\n",
    "train3 = train2.copy()\n",
    "train3['year'] = train3['yeartmp']\n",
    "train3.drop(['yeartmp'], axis = 1, inplace = True)\n",
    "\n",
    "# 연, 월, 일, 시간, 분을 하나의 datetime 객체로 변환하고 문자열 형식으로 변환\n",
    "train3['DateTime'] = pd.to_datetime(train3[['year', 'month', 'day', 'hour', 'minute']]).dt.strftime('%Y-%m-%d %H:%M')"
   ]
  },
  {
   "cell_type": "markdown",
   "metadata": {},
   "source": [
    "#### 3-3) 이상치 대치\n",
    "\n",
    "- 클래스가 뾰족하게 4 -> 1 -> 4 와 같이 분포하고 있는 것들이 몇개 있다.\n",
    "- 이를 보완하기 위해 다음과 같은 과정을 진행한다.\n",
    "- 단, 1000 이하를 중심으로 맞춰야하는 대회이기 때문에 class를 기준으로 적용하였다."
   ]
  },
  {
   "cell_type": "code",
   "execution_count": 52,
   "metadata": {},
   "outputs": [],
   "source": [
    "# # 지역별로 따로따로 적용하자.\n",
    "# for c in train3['stn_id'].unique():\n",
    "\n",
    "#     # 지역별로 잘라서 이상치 -> 결측치 만들기\n",
    "#     train4 = train3[train3['stn_id'] == c]\n",
    "\n",
    "#     # lag 만들어서 지난번  class 확인하기\n",
    "#     train4['shift_left_class'] = train4['class'].shift(1)\n",
    "\n",
    "#     # 이전과의 차이 구하기\n",
    "#     train4['diff_left_class'] = train4['class'] - train4['shift_left_class']\n",
    "\n",
    "#     # lag 만들어서 이다음 class 확인하기\n",
    "#     train4['shift_right_class'] = train4['class'].shift(-1)\n",
    "\n",
    "#     # 이다음과의 차이 구하기\n",
    "#     train4['diff_right_class'] = train4['class'] - train4['shift_right_class']\n",
    "\n",
    "#     # 인덱스 뽑기\n",
    "#     idx = train4[(abs(train4['diff_left_class']) >= 2) & (abs(train4['diff_right_class']) >= 2)].index\n",
    "\n",
    "#     # 뾰족한 데이터 결측치로 처리하기\n",
    "#     train3['class'].iloc[idx] = np.nan\n",
    "#     train3['vis1'].iloc[idx] = np.nan"
   ]
  },
  {
   "cell_type": "markdown",
   "metadata": {},
   "source": [
    "#### 3-4) KNN Imputation\n",
    "\n",
    "- 서로간의 근접 이웃을 통해 값을 유사하게 채워주는 보간법이다.\n",
    "- 내륙, 해안, 산간지방의 5가지 유형을 통해 분해하여 따로 처리해주는 방식을 사용한다.\n",
    "\n",
    "- 다음과 같은 방법으로 결측치를 채우도록 하자\n",
    "\n",
    "> 1. vis1을 제외한 train으로 knnimputator을 적용한 다음 test에 유형에 맞춰 값을 대치한다.\n",
    ">    - 주의할점 : 시간에 관련된 변수는 제외한다. 값을 반영함으로 오히려 방해될 수 있다.\n",
    "> 2. 대치된 값을 활용하여 vis1을 만들고 class를 채운다."
   ]
  },
  {
   "cell_type": "code",
   "execution_count": 67,
   "metadata": {},
   "outputs": [
    {
     "name": "stdout",
     "output_type": "stream",
     "text": [
      "The first processing: A ground transforming ...\n",
      "train transforming ....\n",
      "test transforming ....\n",
      "The second processing: A vis1 transforming ...\n",
      "The end of A ground imputate. check this train data\n"
     ]
    }
   ],
   "source": [
    "# imputate with knnimputer\n",
    "for c in ['A']: # , 'E', 'B', 'C', 'D'\n",
    "    \n",
    "    print(f'The first processing: {c} ground transforming ...')\n",
    "    # 1. train & test knn imputer\n",
    "    knnimputer = KNNImputer()\n",
    "\n",
    "    # train - fit_transform\n",
    "    print(\"train transforming ....\")\n",
    "    train3.loc[train3['ground'] == c, ['re', 'sun10', 'ta', 'ts', 'ws10_deg', 'ws10_ms', 'hm']] = knnimputer.fit_transform(train3[train3['ground'] == c][['re', 'sun10', 'ta', 'ts', 'ws10_deg', 'ws10_ms', 'hm']])\n",
    "\n",
    "    # test - transform\n",
    "    print(\"test transforming ....\")\n",
    "    test2.loc[test2['ground'] == c, ['re', 'sun10', 'ta', 'ts', 'ws10_deg', 'ws10_ms', 'hm']] = knnimputer.transform(test2[test2['ground'] == c][['re', 'sun10', 'ta', 'ts', 'ws10_deg', 'ws10_ms', 'hm']])\n",
    "    \n",
    "    # 2. vis1 imputater\n",
    "    visimputer = KNNImputer()\n",
    "\n",
    "    print(f'The second processing: {c} vis1 transforming ...')\n",
    "    # only train\n",
    "    train3.loc[train3['ground'] == c, ['re', 'sun10', 'ta', 'ts', 'ws10_deg', 'ws10_ms', 'hm', 'vis1']] = knnimputer.fit_transform(train3[train3['ground'] == c][['re', 'sun10', 'ta', 'ts', 'ws10_deg', 'ws10_ms', 'hm', 'vis1']])\n",
    "    print(f'The end of {c} ground imputate. check this train data')"
   ]
  },
  {
   "cell_type": "code",
   "execution_count": 68,
   "metadata": {},
   "outputs": [
    {
     "data": {
      "text/plain": [
       "class       22559\n",
       "day             0\n",
       "hm              0\n",
       "minute          0\n",
       "month           0\n",
       "re              0\n",
       "stn_id          0\n",
       "sun10           0\n",
       "ta              0\n",
       "time            0\n",
       "ts              0\n",
       "vis1            0\n",
       "ws10_deg        0\n",
       "ws10_ms         0\n",
       "year            0\n",
       "ground          0\n",
       "hour            0\n",
       "DateTime        0\n",
       "dtype: int64"
      ]
     },
     "execution_count": 68,
     "metadata": {},
     "output_type": "execute_result"
    }
   ],
   "source": [
    "train3.isna().sum()"
   ]
  },
  {
   "cell_type": "markdown",
   "metadata": {},
   "source": [
    "#### 3-5) class 계산하기\n",
    "\n",
    "- vis1을 활용하면 class가 계산된다.\n",
    "- 실제로 기준의 범위를 나눌때 vis1 변수를 활용하기 때문에 이번에도 이와 같이 반영해준다."
   ]
  },
  {
   "cell_type": "code",
   "execution_count": 88,
   "metadata": {},
   "outputs": [],
   "source": [
    "# vis1을 활용하여 class 계산해주기\n",
    "# 기준\n",
    "cri = [\n",
    "    (train3['class'].isna()) & (0 < train3['vis1']) & (train3['vis1'] < 200),\n",
    "    (train3['class'].isna()) & (200 <= train3['vis1']) & (train3['vis1'] < 500),\n",
    "    (train3['class'].isna()) & (500 <= train3['vis1']) & (train3['vis1'] < 1000),\n",
    "    (train3['class'].isna()) & (1000 <= train3['vis1'])\n",
    "]\n",
    "\n",
    "# 반영값\n",
    "con = [\n",
    "    1, 2, 3, 4\n",
    "]\n",
    "\n",
    "# train\n",
    "train3['class'] = np.select(cri, con, default = train3['class'])"
   ]
  },
  {
   "cell_type": "markdown",
   "metadata": {},
   "source": [
    "#### 3-6) 후보정 처리\n",
    "- 강수 여부, class와 같은 변수의 경우 정수로 입력되는 값을 받아야 할것이다. 따라서 후보정 처리가 들어가야 하는 변수를 조절해준다.\n",
    "- 방향과 같은 경우 0 ~ 360 사이로 입력되게 만들어주어야 한다."
   ]
  },
  {
   "cell_type": "code",
   "execution_count": 130,
   "metadata": {},
   "outputs": [],
   "source": [
    "# 강수여부 처리\n",
    "train3['re'] = np.where(train3['re'] >= 0.5, 1, 0)\n",
    "test2['re'] = np.where(test2['re'] >= 0.5, 1, 0)"
   ]
  },
  {
   "cell_type": "code",
   "execution_count": 138,
   "metadata": {},
   "outputs": [],
   "source": [
    "# 클래스 데이터 형태 변환\n",
    "train3['class'] = train3['class'].astype(int)\n",
    "# test2['class'] = test2['class'].astype(int)"
   ]
  },
  {
   "cell_type": "markdown",
   "metadata": {},
   "source": [
    "### 4. 파생변수 생성하기\n",
    "\n",
    "#### 4-1) 이슬점 온도\n",
    "\n",
    "- 안개 생기는 기준점을 미리 만들어두자\n",
    "- 이슬점은 지면온도와 기온을 고려했을 때 안개가 생성되게 하는 가장 좋은 기준점이다."
   ]
  },
  {
   "cell_type": "code",
   "execution_count": 139,
   "metadata": {},
   "outputs": [],
   "source": [
    "# hm이 완전 0인경우 0.00001 더하자\n",
    "train3['hm'][train3['hm'] == 0.0] = 0.00001\n",
    "test2['hm'][test2['hm'] == 0.0] = 0.00001"
   ]
  },
  {
   "cell_type": "code",
   "execution_count": 140,
   "metadata": {},
   "outputs": [],
   "source": [
    "# Magnus 공식 상수\n",
    "a = 17.27\n",
    "b = 237.7\n",
    "\n",
    "# 알파 값 계산\n",
    "train3['alpha'] = (a * train3['ta']) / (b + train3['ta']) + np.log(train3['hm'] / 100.0)\n",
    "test2['alpha'] = (a * test2['ta']) / (b + test2['ta']) + np.log(test2['hm'] / 100.0)\n",
    "\n",
    "# 이슬점온도 계산\n",
    "train3['dew_point'] = (b * train3['alpha']) / (a - train3['alpha'])\n",
    "test2['dew_point'] = (b * test2['alpha']) / (a - test2['alpha'])"
   ]
  },
  {
   "cell_type": "markdown",
   "metadata": {},
   "source": [
    "#### 4-2) 시간적 사이클\n",
    "\n",
    "- 계절에 따른 차이가 존재할 수 있기 때문에 계절에 관한 사이클을 만들어 주도록 하자\n",
    "- 하루 단위로 온도의 변화가 존재하기 때문에 이를 학습시키기 위해 하루 단위를 변화하도록 하자"
   ]
  },
  {
   "cell_type": "code",
   "execution_count": 147,
   "metadata": {},
   "outputs": [],
   "source": [
    "# 시간 사이클 변수\n",
    "train3['sin_time'] = np.sin(2 * np.pi * train3['time'] / 24)\n",
    "train3['cos_time'] = np.cos(2 * np.pi * train3['time'] / 24)\n",
    "\n",
    "test2['sin_time'] = np.sin(2 * np.pi * test2['time'] / 24)\n",
    "test2['cos_time'] = np.cos(2 * np.pi * test2['time'] / 24)"
   ]
  },
  {
   "cell_type": "code",
   "execution_count": 148,
   "metadata": {},
   "outputs": [],
   "source": [
    "# 계절 사이클 변수 - 월별 주기\n",
    "train3['sin_month'] = np.sin(2 * np.pi * train3['month'] / 12)\n",
    "train3['cos_month'] = np.cos(2 * np.pi * train3['month'] / 12)\n",
    "\n",
    "test2['sin_month'] = np.sin(2 * np.pi * test2['month'] / 12)\n",
    "test2['cos_month'] = np.cos(2 * np.pi * test2['month'] / 12)"
   ]
  },
  {
   "cell_type": "markdown",
   "metadata": {},
   "source": [
    "#### 4-3) 안개 발생 조건\n",
    "\n",
    "- 다음 생성할 변수는 세가지 영역으로 나눠서 형성할 것이다.\n",
    "\n",
    "> 1. 안개 생성 조건: 지역별로 생성되는 조건이 상이하기 때문에 안개별로 조건을 달리하여 적용할 것이다.\n",
    "> 2. 안개 지속 조건: 얼마나 지속될지, 언제까지 지속되는 조건인지에 따라 계속해서 발생하고 있을 수 있기 때문에 적용한다. 조건이 같기 때문에 통일된 변수로 제작한다.\n",
    "> 3. 안개 짙어짐 조건: 마찬가지로 조건은 거의 동일하다 보면 된다. \n",
    "\n",
    "- 안개 종류에 따른 지형\n",
    "    - 복사: A내륙, B산간\n",
    "    - 이류: C동해, D서해, E남해\n",
    "    - 연안: D서해\n",
    "    - 전선: C동해\n",
    "    - 해무: E남해\n",
    "    - 활승: B산간\n",
    "    - 김: B산간"
   ]
  },
  {
   "cell_type": "code",
   "execution_count": 151,
   "metadata": {},
   "outputs": [],
   "source": [
    "# 온도조건 미리 계산하기\n",
    "train3['diff_air-dew'] = train3['ta'] - train3['dew_point']\n",
    "train3['diff_ts-dew'] = train3['ts'] - train3['dew_point']\n",
    "\n",
    "test2['diff_air-dew'] = test2['ta'] - test2['dew_point']\n",
    "test2['diff_ts-dew'] = test2['ts'] - test2['dew_point']"
   ]
  },
  {
   "cell_type": "markdown",
   "metadata": {},
   "source": [
    "복사안개"
   ]
  },
  {
   "cell_type": "code",
   "execution_count": 156,
   "metadata": {},
   "outputs": [],
   "source": [
    "# 안개 생성 조건 1. 복사안개\n",
    "# train\n",
    "cri = [\n",
    "    (train3['ground'].isin(['A', 'B'])) & # 내륙산간지방\n",
    "    (train3['diff_ts-dew'] <= 0) & # 지면온도가 이슬점보다 같거나 낮은곳\n",
    "    (train3['hm'] >= 85) & # 습도 85% 이상\n",
    "    (train3['ws10_ms'] <= 2) & # 풍속 2m/s 이하\n",
    "    (train3['re'] == 0) & # 강수 없음\n",
    "    (train3['sun10'] == 0) # 일사 없음\n",
    "]\n",
    "\n",
    "con = [\n",
    "    1\n",
    "]\n",
    "\n",
    "train3['make_copyfog'] = np.select(cri, con, default = 0)"
   ]
  },
  {
   "cell_type": "code",
   "execution_count": 157,
   "metadata": {},
   "outputs": [],
   "source": [
    "# 안개 생성 조건 1. 복사안개\n",
    "# test\n",
    "cri = [\n",
    "    (test2['ground'].isin(['A', 'B'])) & # 내륙산간지방\n",
    "    (test2['diff_ts-dew'] <= 0) & # 지면온도가 이슬점보다 같거나 낮은곳\n",
    "    (test2['hm'] >= 85) & # 습도 85% 이상\n",
    "    (test2['ws10_ms'] <= 2) & # 풍속 2m/s 이하\n",
    "    (test2['re'] == 0) & # 강수 없음\n",
    "    (test2['sun10'] == 0) # 일사 없음\n",
    "]\n",
    "\n",
    "con = [\n",
    "    1\n",
    "]\n",
    "\n",
    "test2['make_copyfog'] = np.select(cri, con, default = 0)"
   ]
  },
  {
   "cell_type": "markdown",
   "metadata": {},
   "source": [
    "이류안개"
   ]
  },
  {
   "cell_type": "code",
   "execution_count": 158,
   "metadata": {},
   "outputs": [],
   "source": [
    "# 안개 생성 조건 2. 이류안개\n",
    "# train\n",
    "cri = [\n",
    "    (train3['ground'].isin(['C', 'D', 'E'])) & # 해안가 지역\n",
    "    (train3['diff_ts-dew'] <= 0) & # 지표면이 이슬점과 같거나 아래\n",
    "    (train3['hm'] >= 85) & # 습도 85%이상\n",
    "    (train3['ws10_ms'] >= 2) & # 풍속 2m/s이상\n",
    "    (train3['ws10_ms'] <= 15) # 풍속 15m/s 이하\n",
    "]\n",
    "\n",
    "con = [\n",
    "    1\n",
    "]\n",
    "\n",
    "train3['make_irufog'] = np.select(cri, con, default = 0)"
   ]
  },
  {
   "cell_type": "code",
   "execution_count": 159,
   "metadata": {},
   "outputs": [],
   "source": [
    "# 안개 생성 조건 2. 이류안개\n",
    "# test\n",
    "cri = [\n",
    "    (test2['ground'].isin(['C', 'D', 'E'])) & # 해안가 지역\n",
    "    (test2['diff_ts-dew'] <= 0) & # 지표면이 이슬점과 같거나 아래\n",
    "    (test2['hm'] >= 85) & # 습도 85%이상\n",
    "    (test2['ws10_ms'] >= 2) & # 풍속 2m/s이상\n",
    "    (test2['ws10_ms'] <= 15) # 풍속 15m/s 이하\n",
    "]\n",
    "\n",
    "con = [\n",
    "    1\n",
    "]\n",
    "\n",
    "test2['make_irufog'] = np.select(cri, con, default = 0)"
   ]
  },
  {
   "cell_type": "markdown",
   "metadata": {},
   "source": [
    "연안안개"
   ]
  },
  {
   "cell_type": "code",
   "execution_count": 160,
   "metadata": {},
   "outputs": [],
   "source": [
    "# 안개 생성 조건 3. 연안안개\n",
    "# train\n",
    "cri = [\n",
    "    (train3['ground'] == 'D') & # 서해안\n",
    "    (train3['diff_ts-dew'] <= 0) & # 지면이 이슬점보다 같거나 낮게\n",
    "    (train3['hm'] >= 85) & # 습도 85%이상\n",
    "    (train3['ws10_ms'] >= 2) & # 풍속 2 ~ 10\n",
    "    (train3['ws10_ms'] <= 10) & \n",
    "    (train3['ws10_deg'] >= 45) & # 방향 서 -> 동\n",
    "    (train3['ws10_deg'] <= 135) & \n",
    "    (train3['re'] == 0) # 날씨가 흐리지 않게 조절\n",
    "]\n",
    "\n",
    "con = [\n",
    "    1\n",
    "]\n",
    "\n",
    "train3['make_westfog'] = np.select(cri, con, default = 0)"
   ]
  },
  {
   "cell_type": "code",
   "execution_count": 161,
   "metadata": {},
   "outputs": [],
   "source": [
    "# 안개 생성 조건 3. 연안안개\n",
    "# test\n",
    "cri = [\n",
    "    (test2['ground'] == 'D') & \n",
    "    (test2['diff_ts-dew'] <= 0) & \n",
    "    (test2['hm'] >= 85) & \n",
    "    (test2['ws10_ms'] >= 2) & \n",
    "    (test2['ws10_ms'] <= 10) & \n",
    "    (test2['ws10_deg'] >= 45) & \n",
    "    (test2['ws10_deg'] <= 135) & \n",
    "    (test2['re'] == 0)\n",
    "]\n",
    "\n",
    "con = [\n",
    "    1\n",
    "]\n",
    "\n",
    "test2['make_westfog'] = np.select(cri, con, default = 0)"
   ]
  },
  {
   "cell_type": "markdown",
   "metadata": {},
   "source": [
    "전선안개"
   ]
  },
  {
   "cell_type": "code",
   "execution_count": 162,
   "metadata": {},
   "outputs": [],
   "source": [
    "# 안개 생성 조건 4. 전선안개\n",
    "# train\n",
    "cri = [\n",
    "    (train3['ground'] == 'C') & # 동해안\n",
    "    (train3['diff_ts-dew'] <= 0) & # 지면이 이슬점보다 같거나 낮게\n",
    "    (train3['hm'] >= 85) & # 습도 85%이상\n",
    "    (train3['ws10_ms'] >= 2) & # 풍속 2 ~ 15\n",
    "    (train3['ws10_ms'] <= 15) & \n",
    "    (train3['ws10_deg'] >= 225) & # 방향 동 -> 서\n",
    "    (train3['ws10_deg'] <= 315) & \n",
    "    (train3['re'] == 1) # 날씨가 구름이 많음\n",
    "]\n",
    "\n",
    "con = [\n",
    "    1\n",
    "]\n",
    "\n",
    "train3['make_eastfog'] = np.select(cri, con, default = 0)"
   ]
  },
  {
   "cell_type": "code",
   "execution_count": 163,
   "metadata": {},
   "outputs": [],
   "source": [
    "# 안개 생성 조건 4. 전선안개\n",
    "# test\n",
    "cri = [\n",
    "    (test2['ground'] == 'C') & # 동해안\n",
    "    (test2['diff_ts-dew'] <= 0) & # 지면이 이슬점보다 같거나 낮게\n",
    "    (test2['hm'] >= 85) & # 습도 85%이상\n",
    "    (test2['ws10_ms'] >= 2) & # 풍속 2 ~ 15\n",
    "    (test2['ws10_ms'] <= 15) & \n",
    "    (test2['ws10_deg'] >= 225) & # 방향 동 -> 서\n",
    "    (test2['ws10_deg'] <= 315) & \n",
    "    (test2['re'] == 1) # 날씨가 구름이 많음\n",
    "]\n",
    "\n",
    "con = [\n",
    "    1\n",
    "]\n",
    "\n",
    "test2['make_eastfog'] = np.select(cri, con, default = 0)"
   ]
  },
  {
   "cell_type": "markdown",
   "metadata": {},
   "source": [
    "해무안개"
   ]
  },
  {
   "cell_type": "code",
   "execution_count": 164,
   "metadata": {},
   "outputs": [],
   "source": [
    "# 안개 생성 조건 5. 해무안개\n",
    "# train\n",
    "cri = [\n",
    "    (train3['ground'] == 'E') & # 남해안\n",
    "    (train3['diff_ts-dew'] <= 0) & # 지면이 이슬점보다 같거나 낮게\n",
    "    (train3['hm'] >= 85) & # 습도 85%이상\n",
    "    (train3['ws10_ms'] >= 2) & # 풍속 2 ~ 15\n",
    "    (train3['ws10_ms'] <= 15) & \n",
    "    ((train3['ws10_deg'] >= 315) | # 방향 동 -> 서\n",
    "    (train3['ws10_deg'] <= 45)) & \n",
    "    (train3['re'] == 0) # 날씨가 흐리지 않게 조절\n",
    "]\n",
    "\n",
    "con = [\n",
    "    1\n",
    "]\n",
    "\n",
    "train3['make_southfog'] = np.select(cri, con, default = 0)"
   ]
  },
  {
   "cell_type": "code",
   "execution_count": 165,
   "metadata": {},
   "outputs": [],
   "source": [
    "# 안개 생성 조건 5. 해무안개\n",
    "# test\n",
    "cri = [\n",
    "    (test2['ground'] == 'E') & # 남해안\n",
    "    (test2['diff_ts-dew'] <= 0) & # 지면이 이슬점보다 같거나 낮게\n",
    "    (test2['hm'] >= 85) & # 습도 85%이상\n",
    "    (test2['ws10_ms'] >= 2) & # 풍속 2 ~ 15\n",
    "    (test2['ws10_ms'] <= 15) & \n",
    "    ((test2['ws10_deg'] >= 315) | # 방향 동 -> 서\n",
    "    (test2['ws10_deg'] <= 45)) & \n",
    "    (test2['re'] == 0) # 날씨가 흐리지 않게 조절\n",
    "]\n",
    "\n",
    "con = [\n",
    "    1\n",
    "]\n",
    "\n",
    "test2['make_southfog'] = np.select(cri, con, default = 0)"
   ]
  },
  {
   "cell_type": "markdown",
   "metadata": {},
   "source": [
    "활승안개"
   ]
  },
  {
   "cell_type": "code",
   "execution_count": 166,
   "metadata": {},
   "outputs": [],
   "source": [
    "# 안개 생성 조건 6. 활승안개\n",
    "# train\n",
    "cri = [\n",
    "    (train3['ground'] == 'B') & # 산간지방\n",
    "    (train3['diff_ts-dew'] <= 0) & # 지면이 이슬점보다 같거나 낮게\n",
    "    (train3['hm'] >= 85) & # 습도 85%이상\n",
    "    (train3['ws10_ms'] >= 2) & # 풍속 2 ~ 10\n",
    "    (train3['ws10_ms'] <= 10)\n",
    "]\n",
    "\n",
    "con = [\n",
    "    1\n",
    "]\n",
    "\n",
    "train3['make_mountfog'] = np.select(cri, con, default = 0)"
   ]
  },
  {
   "cell_type": "code",
   "execution_count": 167,
   "metadata": {},
   "outputs": [],
   "source": [
    "# 안개 생성 조건 1. 복사안개\n",
    "# test\n",
    "cri = [\n",
    "    (test2['ground'] == 'B') & # 산간지방\n",
    "    (test2['diff_ts-dew'] <= 0) & # 지면이 이슬점보다 같거나 낮게\n",
    "    (test2['hm'] >= 85) & # 습도 85%이상\n",
    "    (test2['ws10_ms'] >= 2) & # 풍속 2 ~ 10\n",
    "    (test2['ws10_ms'] <= 10)\n",
    "]\n",
    "\n",
    "con = [\n",
    "    1\n",
    "]\n",
    "\n",
    "test2['make_mountfog'] = np.select(cri, con, default = 0)"
   ]
  },
  {
   "cell_type": "markdown",
   "metadata": {},
   "source": [
    "김안개"
   ]
  },
  {
   "cell_type": "code",
   "execution_count": 168,
   "metadata": {},
   "outputs": [],
   "source": [
    "# 안개 생성 조건 7. 김안개\n",
    "# train\n",
    "cri = [\n",
    "    (train3['ground'] == 'B') & # 산간지방\n",
    "    (train3['diff_ts-dew'] <= 0) & # 지면이 이슬점보다 같거나 낮게\n",
    "    (train3['hm'] >= 85) & # 습도 85%이상\n",
    "    (train3['ws10_ms'] <= 2) & # 풍속 2 이하\n",
    "    (train3['re'] == 0) # 날씨가 흐리지 않게 조절\n",
    "]\n",
    "\n",
    "con = [\n",
    "    1\n",
    "]\n",
    "\n",
    "train3['make_gimfog'] = np.select(cri, con, default = 0)"
   ]
  },
  {
   "cell_type": "code",
   "execution_count": 169,
   "metadata": {},
   "outputs": [],
   "source": [
    "# 안개 생성 조건 7. 김안개\n",
    "# test\n",
    "cri = [\n",
    "    (test2['ground'] == 'B') & # 산간지방\n",
    "    (test2['diff_ts-dew'] <= 0) & # 지면이 이슬점보다 같거나 낮게\n",
    "    (test2['hm'] >= 85) & # 습도 85%이상\n",
    "    (test2['ws10_ms'] <= 2) & # 풍속 2 이하\n",
    "    (test2['re'] == 0) # 날씨가 흐리지 않게 조절\n",
    "]\n",
    "\n",
    "con = [\n",
    "    1\n",
    "]\n",
    "\n",
    "test2['make_gimfog'] = np.select(cri, con, default = 0)"
   ]
  },
  {
   "cell_type": "markdown",
   "metadata": {},
   "source": [
    "지속조건"
   ]
  },
  {
   "cell_type": "code",
   "execution_count": 170,
   "metadata": {},
   "outputs": [],
   "source": [
    "# 안개 지속 조건 \n",
    "cri = [\n",
    "    (train3['diff_air-dew'] <= 2) & # 기온이 이슬점보다 같거나 낮게\n",
    "    (train3['hm'] >= 90) & # 습도 90%이상\n",
    "    (train3['ws10_ms'] <= 2) & # 풍속 2 이하\n",
    "    (train3['re'] == 0) & # 날씨가 흐리지 않게 조절\n",
    "    (train3['sun10'] <= 0.2) # 일사량 0.2MJ 이하\n",
    "]\n",
    "\n",
    "con = [\n",
    "    1\n",
    "]\n",
    "\n",
    "train3['retain_fog'] = np.select(cri, con, default = 0)"
   ]
  },
  {
   "cell_type": "code",
   "execution_count": 171,
   "metadata": {},
   "outputs": [],
   "source": [
    "# 안개 지속 조건 \n",
    "# test\n",
    "cri = [\n",
    "    (test2['diff_air-dew'] <= 2) & # 기온이 이슬점보다 같거나 낮게\n",
    "    (test2['hm'] >= 90) & # 습도 90%이상\n",
    "    (test2['ws10_ms'] <= 2) & # 풍속 2 이하\n",
    "    (test2['re'] == 0) & # 날씨가 흐리지 않게 조절\n",
    "    (test2['sun10'] <= 0.2) # 일사량 0.2MJ 이하\n",
    "]\n",
    "\n",
    "con = [\n",
    "    1\n",
    "]\n",
    "\n",
    "test2['retain_fog'] = np.select(cri, con, default = 0)"
   ]
  },
  {
   "cell_type": "markdown",
   "metadata": {},
   "source": [
    "가속조건"
   ]
  },
  {
   "cell_type": "code",
   "execution_count": 172,
   "metadata": {},
   "outputs": [],
   "source": [
    "# 안개 가속 조건 \n",
    "cri = [\n",
    "    (train3['diff_air-dew'] <= 1) & # 기온이 이슬점보다 같거나 낮게\n",
    "    (train3['hm'] >= 95) & # 습도 95%이상\n",
    "    (train3['ws10_ms'] <= 1) & # 풍속 1 이하\n",
    "    (train3['sun10'] <= 0.2) # 일사량 0.2MJ 이하\n",
    "]\n",
    "\n",
    "con = [\n",
    "    1\n",
    "]\n",
    "\n",
    "train3['upclass_fog'] = np.select(cri, con, default = 0)"
   ]
  },
  {
   "cell_type": "code",
   "execution_count": 173,
   "metadata": {},
   "outputs": [],
   "source": [
    "# 안개 가속 조건 \n",
    "# test\n",
    "cri = [\n",
    "    (test2['diff_air-dew'] <= 1) & # 기온이 이슬점보다 같거나 낮게\n",
    "    (test2['hm'] >= 95) & # 습도 95%이상\n",
    "    (test2['ws10_ms'] <= 1) & # 풍속 1 이하\n",
    "    (test2['sun10'] <= 0.2) # 일사량 0.2MJ 이하\n",
    "]\n",
    "\n",
    "con = [\n",
    "    1\n",
    "]\n",
    "\n",
    "test2['upclass_fog'] = np.select(cri, con, default = 0)"
   ]
  },
  {
   "cell_type": "code",
   "execution_count": 175,
   "metadata": {},
   "outputs": [],
   "source": [
    "# save the data\n",
    "train3.to_csv('../data/train_make_columns.csv', index = False)\n",
    "test2.to_csv('../data/test_make_columns.csv', index = False)"
   ]
  },
  {
   "cell_type": "code",
   "execution_count": 176,
   "metadata": {},
   "outputs": [
    {
     "data": {
      "text/plain": [
       "Index(['class', 'day', 'hm', 'minute', 'month', 're', 'stn_id', 'sun10', 'ta',\n",
       "       'time', 'ts', 'vis1', 'ws10_deg', 'ws10_ms', 'year', 'ground', 'hour',\n",
       "       'DateTime', 'alpha', 'dew_point', 'sin_time', 'cos_time', 'sin_month',\n",
       "       'cos_month', 'diff_air-dew', 'diff_ts-dew', 'make_copyfog',\n",
       "       'make_irufog', 'make_westfog', 'make_eastfog', 'make_southfog',\n",
       "       'make_mountfog', 'make_gimfog', 'retain_fog', 'upclass_fog'],\n",
       "      dtype='object')"
      ]
     },
     "execution_count": 176,
     "metadata": {},
     "output_type": "execute_result"
    }
   ],
   "source": [
    "train3.columns"
   ]
  },
  {
   "cell_type": "code",
   "execution_count": 180,
   "metadata": {},
   "outputs": [
    {
     "data": {
      "text/html": [
       "<div>\n",
       "<style scoped>\n",
       "    .dataframe tbody tr th:only-of-type {\n",
       "        vertical-align: middle;\n",
       "    }\n",
       "\n",
       "    .dataframe tbody tr th {\n",
       "        vertical-align: top;\n",
       "    }\n",
       "\n",
       "    .dataframe thead th {\n",
       "        text-align: right;\n",
       "    }\n",
       "</style>\n",
       "<table border=\"1\" class=\"dataframe\">\n",
       "  <thead>\n",
       "    <tr style=\"text-align: right;\">\n",
       "      <th>class</th>\n",
       "      <th>1</th>\n",
       "      <th>2</th>\n",
       "      <th>3</th>\n",
       "      <th>4</th>\n",
       "    </tr>\n",
       "    <tr>\n",
       "      <th>make_copyfog</th>\n",
       "      <th></th>\n",
       "      <th></th>\n",
       "      <th></th>\n",
       "      <th></th>\n",
       "    </tr>\n",
       "  </thead>\n",
       "  <tbody>\n",
       "    <tr>\n",
       "      <th>0</th>\n",
       "      <td>7584</td>\n",
       "      <td>11810</td>\n",
       "      <td>11661</td>\n",
       "      <td>3097184</td>\n",
       "    </tr>\n",
       "    <tr>\n",
       "      <th>1</th>\n",
       "      <td>264</td>\n",
       "      <td>261</td>\n",
       "      <td>528</td>\n",
       "      <td>27168</td>\n",
       "    </tr>\n",
       "  </tbody>\n",
       "</table>\n",
       "</div>"
      ],
      "text/plain": [
       "class            1      2      3        4\n",
       "make_copyfog                             \n",
       "0             7584  11810  11661  3097184\n",
       "1              264    261    528    27168"
      ]
     },
     "metadata": {},
     "output_type": "display_data"
    },
    {
     "data": {
      "text/html": [
       "<div>\n",
       "<style scoped>\n",
       "    .dataframe tbody tr th:only-of-type {\n",
       "        vertical-align: middle;\n",
       "    }\n",
       "\n",
       "    .dataframe tbody tr th {\n",
       "        vertical-align: top;\n",
       "    }\n",
       "\n",
       "    .dataframe thead th {\n",
       "        text-align: right;\n",
       "    }\n",
       "</style>\n",
       "<table border=\"1\" class=\"dataframe\">\n",
       "  <thead>\n",
       "    <tr style=\"text-align: right;\">\n",
       "      <th>class</th>\n",
       "      <th>1</th>\n",
       "      <th>2</th>\n",
       "      <th>3</th>\n",
       "      <th>4</th>\n",
       "    </tr>\n",
       "    <tr>\n",
       "      <th>make_irufog</th>\n",
       "      <th></th>\n",
       "      <th></th>\n",
       "      <th></th>\n",
       "      <th></th>\n",
       "    </tr>\n",
       "  </thead>\n",
       "  <tbody>\n",
       "    <tr>\n",
       "      <th>0</th>\n",
       "      <td>7754</td>\n",
       "      <td>11965</td>\n",
       "      <td>11899</td>\n",
       "      <td>3115501</td>\n",
       "    </tr>\n",
       "    <tr>\n",
       "      <th>1</th>\n",
       "      <td>94</td>\n",
       "      <td>106</td>\n",
       "      <td>290</td>\n",
       "      <td>8851</td>\n",
       "    </tr>\n",
       "  </tbody>\n",
       "</table>\n",
       "</div>"
      ],
      "text/plain": [
       "class           1      2      3        4\n",
       "make_irufog                             \n",
       "0            7754  11965  11899  3115501\n",
       "1              94    106    290     8851"
      ]
     },
     "metadata": {},
     "output_type": "display_data"
    },
    {
     "data": {
      "text/html": [
       "<div>\n",
       "<style scoped>\n",
       "    .dataframe tbody tr th:only-of-type {\n",
       "        vertical-align: middle;\n",
       "    }\n",
       "\n",
       "    .dataframe tbody tr th {\n",
       "        vertical-align: top;\n",
       "    }\n",
       "\n",
       "    .dataframe thead th {\n",
       "        text-align: right;\n",
       "    }\n",
       "</style>\n",
       "<table border=\"1\" class=\"dataframe\">\n",
       "  <thead>\n",
       "    <tr style=\"text-align: right;\">\n",
       "      <th>class</th>\n",
       "      <th>1</th>\n",
       "      <th>2</th>\n",
       "      <th>3</th>\n",
       "      <th>4</th>\n",
       "    </tr>\n",
       "    <tr>\n",
       "      <th>make_westfog</th>\n",
       "      <th></th>\n",
       "      <th></th>\n",
       "      <th></th>\n",
       "      <th></th>\n",
       "    </tr>\n",
       "  </thead>\n",
       "  <tbody>\n",
       "    <tr>\n",
       "      <th>0</th>\n",
       "      <td>7848</td>\n",
       "      <td>12066</td>\n",
       "      <td>12173</td>\n",
       "      <td>3124043</td>\n",
       "    </tr>\n",
       "    <tr>\n",
       "      <th>1</th>\n",
       "      <td>0</td>\n",
       "      <td>5</td>\n",
       "      <td>16</td>\n",
       "      <td>309</td>\n",
       "    </tr>\n",
       "  </tbody>\n",
       "</table>\n",
       "</div>"
      ],
      "text/plain": [
       "class            1      2      3        4\n",
       "make_westfog                             \n",
       "0             7848  12066  12173  3124043\n",
       "1                0      5     16      309"
      ]
     },
     "metadata": {},
     "output_type": "display_data"
    },
    {
     "data": {
      "text/html": [
       "<div>\n",
       "<style scoped>\n",
       "    .dataframe tbody tr th:only-of-type {\n",
       "        vertical-align: middle;\n",
       "    }\n",
       "\n",
       "    .dataframe tbody tr th {\n",
       "        vertical-align: top;\n",
       "    }\n",
       "\n",
       "    .dataframe thead th {\n",
       "        text-align: right;\n",
       "    }\n",
       "</style>\n",
       "<table border=\"1\" class=\"dataframe\">\n",
       "  <thead>\n",
       "    <tr style=\"text-align: right;\">\n",
       "      <th>class</th>\n",
       "      <th>1</th>\n",
       "      <th>2</th>\n",
       "      <th>3</th>\n",
       "      <th>4</th>\n",
       "    </tr>\n",
       "    <tr>\n",
       "      <th>make_eastfog</th>\n",
       "      <th></th>\n",
       "      <th></th>\n",
       "      <th></th>\n",
       "      <th></th>\n",
       "    </tr>\n",
       "  </thead>\n",
       "  <tbody>\n",
       "    <tr>\n",
       "      <th>0</th>\n",
       "      <td>7848</td>\n",
       "      <td>12070</td>\n",
       "      <td>12183</td>\n",
       "      <td>3124303</td>\n",
       "    </tr>\n",
       "    <tr>\n",
       "      <th>1</th>\n",
       "      <td>0</td>\n",
       "      <td>1</td>\n",
       "      <td>6</td>\n",
       "      <td>49</td>\n",
       "    </tr>\n",
       "  </tbody>\n",
       "</table>\n",
       "</div>"
      ],
      "text/plain": [
       "class            1      2      3        4\n",
       "make_eastfog                             \n",
       "0             7848  12070  12183  3124303\n",
       "1                0      1      6       49"
      ]
     },
     "metadata": {},
     "output_type": "display_data"
    },
    {
     "data": {
      "text/html": [
       "<div>\n",
       "<style scoped>\n",
       "    .dataframe tbody tr th:only-of-type {\n",
       "        vertical-align: middle;\n",
       "    }\n",
       "\n",
       "    .dataframe tbody tr th {\n",
       "        vertical-align: top;\n",
       "    }\n",
       "\n",
       "    .dataframe thead th {\n",
       "        text-align: right;\n",
       "    }\n",
       "</style>\n",
       "<table border=\"1\" class=\"dataframe\">\n",
       "  <thead>\n",
       "    <tr style=\"text-align: right;\">\n",
       "      <th>class</th>\n",
       "      <th>1</th>\n",
       "      <th>2</th>\n",
       "      <th>3</th>\n",
       "      <th>4</th>\n",
       "    </tr>\n",
       "    <tr>\n",
       "      <th>make_southfog</th>\n",
       "      <th></th>\n",
       "      <th></th>\n",
       "      <th></th>\n",
       "      <th></th>\n",
       "    </tr>\n",
       "  </thead>\n",
       "  <tbody>\n",
       "    <tr>\n",
       "      <th>0</th>\n",
       "      <td>7848</td>\n",
       "      <td>12071</td>\n",
       "      <td>12188</td>\n",
       "      <td>3124216</td>\n",
       "    </tr>\n",
       "    <tr>\n",
       "      <th>1</th>\n",
       "      <td>0</td>\n",
       "      <td>0</td>\n",
       "      <td>1</td>\n",
       "      <td>136</td>\n",
       "    </tr>\n",
       "  </tbody>\n",
       "</table>\n",
       "</div>"
      ],
      "text/plain": [
       "class             1      2      3        4\n",
       "make_southfog                             \n",
       "0              7848  12071  12188  3124216\n",
       "1                 0      0      1      136"
      ]
     },
     "metadata": {},
     "output_type": "display_data"
    },
    {
     "data": {
      "text/html": [
       "<div>\n",
       "<style scoped>\n",
       "    .dataframe tbody tr th:only-of-type {\n",
       "        vertical-align: middle;\n",
       "    }\n",
       "\n",
       "    .dataframe tbody tr th {\n",
       "        vertical-align: top;\n",
       "    }\n",
       "\n",
       "    .dataframe thead th {\n",
       "        text-align: right;\n",
       "    }\n",
       "</style>\n",
       "<table border=\"1\" class=\"dataframe\">\n",
       "  <thead>\n",
       "    <tr style=\"text-align: right;\">\n",
       "      <th>class</th>\n",
       "      <th>1</th>\n",
       "      <th>2</th>\n",
       "      <th>3</th>\n",
       "      <th>4</th>\n",
       "    </tr>\n",
       "    <tr>\n",
       "      <th>make_mountfog</th>\n",
       "      <th></th>\n",
       "      <th></th>\n",
       "      <th></th>\n",
       "      <th></th>\n",
       "    </tr>\n",
       "  </thead>\n",
       "  <tbody>\n",
       "    <tr>\n",
       "      <th>0</th>\n",
       "      <td>7826</td>\n",
       "      <td>12038</td>\n",
       "      <td>12090</td>\n",
       "      <td>3121353</td>\n",
       "    </tr>\n",
       "    <tr>\n",
       "      <th>1</th>\n",
       "      <td>22</td>\n",
       "      <td>33</td>\n",
       "      <td>99</td>\n",
       "      <td>2999</td>\n",
       "    </tr>\n",
       "  </tbody>\n",
       "</table>\n",
       "</div>"
      ],
      "text/plain": [
       "class             1      2      3        4\n",
       "make_mountfog                             \n",
       "0              7826  12038  12090  3121353\n",
       "1                22     33     99     2999"
      ]
     },
     "metadata": {},
     "output_type": "display_data"
    },
    {
     "data": {
      "text/html": [
       "<div>\n",
       "<style scoped>\n",
       "    .dataframe tbody tr th:only-of-type {\n",
       "        vertical-align: middle;\n",
       "    }\n",
       "\n",
       "    .dataframe tbody tr th {\n",
       "        vertical-align: top;\n",
       "    }\n",
       "\n",
       "    .dataframe thead th {\n",
       "        text-align: right;\n",
       "    }\n",
       "</style>\n",
       "<table border=\"1\" class=\"dataframe\">\n",
       "  <thead>\n",
       "    <tr style=\"text-align: right;\">\n",
       "      <th>class</th>\n",
       "      <th>1</th>\n",
       "      <th>2</th>\n",
       "      <th>3</th>\n",
       "      <th>4</th>\n",
       "    </tr>\n",
       "    <tr>\n",
       "      <th>make_gimfog</th>\n",
       "      <th></th>\n",
       "      <th></th>\n",
       "      <th></th>\n",
       "      <th></th>\n",
       "    </tr>\n",
       "  </thead>\n",
       "  <tbody>\n",
       "    <tr>\n",
       "      <th>0</th>\n",
       "      <td>7791</td>\n",
       "      <td>11956</td>\n",
       "      <td>11973</td>\n",
       "      <td>3115651</td>\n",
       "    </tr>\n",
       "    <tr>\n",
       "      <th>1</th>\n",
       "      <td>57</td>\n",
       "      <td>115</td>\n",
       "      <td>216</td>\n",
       "      <td>8701</td>\n",
       "    </tr>\n",
       "  </tbody>\n",
       "</table>\n",
       "</div>"
      ],
      "text/plain": [
       "class           1      2      3        4\n",
       "make_gimfog                             \n",
       "0            7791  11956  11973  3115651\n",
       "1              57    115    216     8701"
      ]
     },
     "metadata": {},
     "output_type": "display_data"
    },
    {
     "data": {
      "text/html": [
       "<div>\n",
       "<style scoped>\n",
       "    .dataframe tbody tr th:only-of-type {\n",
       "        vertical-align: middle;\n",
       "    }\n",
       "\n",
       "    .dataframe tbody tr th {\n",
       "        vertical-align: top;\n",
       "    }\n",
       "\n",
       "    .dataframe thead th {\n",
       "        text-align: right;\n",
       "    }\n",
       "</style>\n",
       "<table border=\"1\" class=\"dataframe\">\n",
       "  <thead>\n",
       "    <tr style=\"text-align: right;\">\n",
       "      <th>class</th>\n",
       "      <th>1</th>\n",
       "      <th>2</th>\n",
       "      <th>3</th>\n",
       "      <th>4</th>\n",
       "    </tr>\n",
       "    <tr>\n",
       "      <th>retain_fog</th>\n",
       "      <th></th>\n",
       "      <th></th>\n",
       "      <th></th>\n",
       "      <th></th>\n",
       "    </tr>\n",
       "  </thead>\n",
       "  <tbody>\n",
       "    <tr>\n",
       "      <th>0</th>\n",
       "      <td>2430</td>\n",
       "      <td>3961</td>\n",
       "      <td>6884</td>\n",
       "      <td>2820463</td>\n",
       "    </tr>\n",
       "    <tr>\n",
       "      <th>1</th>\n",
       "      <td>5418</td>\n",
       "      <td>8110</td>\n",
       "      <td>5305</td>\n",
       "      <td>303889</td>\n",
       "    </tr>\n",
       "  </tbody>\n",
       "</table>\n",
       "</div>"
      ],
      "text/plain": [
       "class          1     2     3        4\n",
       "retain_fog                           \n",
       "0           2430  3961  6884  2820463\n",
       "1           5418  8110  5305   303889"
      ]
     },
     "metadata": {},
     "output_type": "display_data"
    },
    {
     "data": {
      "text/html": [
       "<div>\n",
       "<style scoped>\n",
       "    .dataframe tbody tr th:only-of-type {\n",
       "        vertical-align: middle;\n",
       "    }\n",
       "\n",
       "    .dataframe tbody tr th {\n",
       "        vertical-align: top;\n",
       "    }\n",
       "\n",
       "    .dataframe thead th {\n",
       "        text-align: right;\n",
       "    }\n",
       "</style>\n",
       "<table border=\"1\" class=\"dataframe\">\n",
       "  <thead>\n",
       "    <tr style=\"text-align: right;\">\n",
       "      <th>class</th>\n",
       "      <th>1</th>\n",
       "      <th>2</th>\n",
       "      <th>3</th>\n",
       "      <th>4</th>\n",
       "    </tr>\n",
       "    <tr>\n",
       "      <th>upclass_fog</th>\n",
       "      <th></th>\n",
       "      <th></th>\n",
       "      <th></th>\n",
       "      <th></th>\n",
       "    </tr>\n",
       "  </thead>\n",
       "  <tbody>\n",
       "    <tr>\n",
       "      <th>0</th>\n",
       "      <td>4436</td>\n",
       "      <td>6758</td>\n",
       "      <td>8511</td>\n",
       "      <td>3002771</td>\n",
       "    </tr>\n",
       "    <tr>\n",
       "      <th>1</th>\n",
       "      <td>3412</td>\n",
       "      <td>5313</td>\n",
       "      <td>3678</td>\n",
       "      <td>121581</td>\n",
       "    </tr>\n",
       "  </tbody>\n",
       "</table>\n",
       "</div>"
      ],
      "text/plain": [
       "class           1     2     3        4\n",
       "upclass_fog                           \n",
       "0            4436  6758  8511  3002771\n",
       "1            3412  5313  3678   121581"
      ]
     },
     "metadata": {},
     "output_type": "display_data"
    },
    {
     "data": {
      "text/html": [
       "<div>\n",
       "<style scoped>\n",
       "    .dataframe tbody tr th:only-of-type {\n",
       "        vertical-align: middle;\n",
       "    }\n",
       "\n",
       "    .dataframe tbody tr th {\n",
       "        vertical-align: top;\n",
       "    }\n",
       "\n",
       "    .dataframe thead th {\n",
       "        text-align: right;\n",
       "    }\n",
       "</style>\n",
       "<table border=\"1\" class=\"dataframe\">\n",
       "  <thead>\n",
       "    <tr style=\"text-align: right;\">\n",
       "      <th>class</th>\n",
       "      <th>1</th>\n",
       "      <th>2</th>\n",
       "      <th>3</th>\n",
       "      <th>4</th>\n",
       "    </tr>\n",
       "    <tr>\n",
       "      <th>class</th>\n",
       "      <th></th>\n",
       "      <th></th>\n",
       "      <th></th>\n",
       "      <th></th>\n",
       "    </tr>\n",
       "  </thead>\n",
       "  <tbody>\n",
       "    <tr>\n",
       "      <th>1</th>\n",
       "      <td>7848</td>\n",
       "      <td>0</td>\n",
       "      <td>0</td>\n",
       "      <td>0</td>\n",
       "    </tr>\n",
       "    <tr>\n",
       "      <th>2</th>\n",
       "      <td>0</td>\n",
       "      <td>12071</td>\n",
       "      <td>0</td>\n",
       "      <td>0</td>\n",
       "    </tr>\n",
       "    <tr>\n",
       "      <th>3</th>\n",
       "      <td>0</td>\n",
       "      <td>0</td>\n",
       "      <td>12189</td>\n",
       "      <td>0</td>\n",
       "    </tr>\n",
       "    <tr>\n",
       "      <th>4</th>\n",
       "      <td>0</td>\n",
       "      <td>0</td>\n",
       "      <td>0</td>\n",
       "      <td>3124352</td>\n",
       "    </tr>\n",
       "  </tbody>\n",
       "</table>\n",
       "</div>"
      ],
      "text/plain": [
       "class     1      2      3        4\n",
       "class                             \n",
       "1      7848      0      0        0\n",
       "2         0  12071      0        0\n",
       "3         0      0  12189        0\n",
       "4         0      0      0  3124352"
      ]
     },
     "metadata": {},
     "output_type": "display_data"
    }
   ],
   "source": [
    "for c in ['make_copyfog', 'make_irufog', 'make_westfog', 'make_eastfog', 'make_southfog',\n",
    "       'make_mountfog', 'make_gimfog', 'retain_fog', 'upclass_fog', 'class']:\n",
    "    \n",
    "    display(pd.crosstab(train3[c], train3['class']))"
   ]
  },
  {
   "cell_type": "markdown",
   "metadata": {},
   "source": [
    "### 오늘의 결론\n",
    "- 할루시네이션 제대로 당했다 .... 다시 찾자"
   ]
  },
  {
   "cell_type": "markdown",
   "metadata": {},
   "source": []
  }
 ],
 "metadata": {
  "kernelspec": {
   "display_name": "ss",
   "language": "python",
   "name": "python3"
  },
  "language_info": {
   "codemirror_mode": {
    "name": "ipython",
    "version": 3
   },
   "file_extension": ".py",
   "mimetype": "text/x-python",
   "name": "python",
   "nbconvert_exporter": "python",
   "pygments_lexer": "ipython3",
   "version": "3.8.19"
  }
 },
 "nbformat": 4,
 "nbformat_minor": 2
}
