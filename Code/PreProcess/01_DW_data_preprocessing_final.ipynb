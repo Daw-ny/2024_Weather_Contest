{
 "cells": [
  {
   "cell_type": "markdown",
   "metadata": {},
   "source": [
    "# **💁🏻🗨️💁🏻‍♂️안개 예측 EDA code**\n",
    "> **안개량 예측** 경진대회에 오신 여러분 환영합니다! 🎉    \n",
    "> 본 대회에서는 최대 10명이 참여할 수 있는 기상청 주관 날씨 빅데이터 경진대회 입니다.     \n",
    "> 주어진 데이터를 활용하여 안개 상태의 구간을 예측할 수 있는 모델을 만드는 것이 목표입니다!\n",
    "\n",
    "# Contents  \n",
    "  \n",
    "- 필요한 라이브러리 설치  \n",
    "- 데이터 불러오기  \n",
    "- 데이터 결측치 처리하기\n",
    "- 파생변수 생성하기"
   ]
  },
  {
   "cell_type": "markdown",
   "metadata": {},
   "source": [
    "### 1. 필요한 라이브러리 설치"
   ]
  },
  {
   "cell_type": "markdown",
   "metadata": {},
   "source": [
    "- 필요한 라이브러리를 설치한 후 불러옵니다."
   ]
  },
  {
   "cell_type": "code",
   "execution_count": 52,
   "metadata": {},
   "outputs": [],
   "source": [
    "# basic\n",
    "import os, random\n",
    "import pandas as pd\n",
    "import numpy as np\n",
    "\n",
    "# graph\n",
    "import matplotlib\n",
    "import matplotlib.pyplot as plt\n",
    "import seaborn as sns\n",
    "import plotly.express as px\n",
    "import plotly.graph_objects as go\n",
    "\n",
    "# imputator\n",
    "from sklearn.impute import KNNImputer\n",
    "\n",
    "# 경고 무시\n",
    "import warnings\n",
    "warnings.filterwarnings('ignore')\n",
    "\n",
    "# 폰트\n",
    "plt.rcParams['font.family'] = 'NanumSquare'\n",
    "\n",
    "# 마이너스 출력\n",
    "matplotlib.rcParams['axes.unicode_minus'] = False"
   ]
  },
  {
   "cell_type": "code",
   "execution_count": 53,
   "metadata": {},
   "outputs": [],
   "source": [
    "# random seed 고정하기\n",
    "def seed_everything(seed):\n",
    "    random.seed(seed)\n",
    "    os.environ['PYTHONHASHSEED'] = str(seed)\n",
    "    np.random.seed(seed)\n",
    "\n",
    "seed_everything(42) # Seed 고정"
   ]
  },
  {
   "cell_type": "markdown",
   "metadata": {},
   "source": [
    "### 2. 데이터 불러오기\n",
    "- 제공된 데이터를 불러옵니다.\n",
    "\n",
    "> - year : 년도\n",
    "> - month : 월\n",
    "> - day : 일\n",
    "> - hour : 시간\n",
    "> - minute : 분(10분 단위)\n",
    "> - stn_id : 지점 번호\n",
    "> - ws10_deg : 10분 평균 풍향, deg\n",
    "> - ws10_ms : 10분 평균 풍속, m/s\n",
    "> - ta : 1분 평균 기온 10분 주기, 섭씨\n",
    "> - re : 강수 유무 0:무강수, 1:강수\n",
    "> - hm : 1분 평균 상대 습도 10분 주기, %\n",
    "> - sun10 : 1분 일사량 10분 단위 합계, MJ\n",
    "> - ts : 1분 평균 지면온도 10분 주기, 섭씨\n",
    "\n",
    "- test 없는 데이터 값\n",
    "> - vis1 : 1분 평균 시정 10분 주기, m\n",
    "> - class : 시정 구간\n",
    "\n",
    "시정 구간은 다음과 같다.\n",
    "- 0초과 200미만 : 1\n",
    "- 200이상 500미만 : 2\n",
    "- 500이상 1000미만 : 3\n",
    "- 1000이상 : 4\n",
    "- 4번은 맞춰도 스코어가 증가하진 않지만 틀리면 감점"
   ]
  },
  {
   "cell_type": "code",
   "execution_count": 54,
   "metadata": {},
   "outputs": [],
   "source": [
    "# load data\n",
    "train = pd.read_csv('../data/fog_train.csv')\n",
    "test = pd.read_csv('../data/fog_test.csv')"
   ]
  },
  {
   "cell_type": "code",
   "execution_count": 55,
   "metadata": {},
   "outputs": [],
   "source": [
    "# 쓸데없는 열 제거\n",
    "train.drop(['Unnamed: 0'], axis = 1, inplace = True)\n",
    "test.drop(['Unnamed: 0'], axis = 1, inplace = True)\n"
   ]
  },
  {
   "cell_type": "markdown",
   "metadata": {},
   "source": [
    "### 3. 데이터 결측치 처리하기"
   ]
  },
  {
   "cell_type": "markdown",
   "metadata": {},
   "source": [
    "#### 3-1) 없는 날짜\n",
    "\n",
    "현재 데이터에 존재하지 않는 레이블이 21개가 존재한다.  \n",
    "- 지역별로 I년도 01월 01일 00:00분이 없기 때문에 공통적으로 없는 부분은 채우지 않고 그대로 진행하기로 한다.\n",
    "- 그러나 중간에 없는 EC지역의 J년 11월 3일 18:20분은 직접 채우기로 한다."
   ]
  },
  {
   "cell_type": "code",
   "execution_count": 56,
   "metadata": {},
   "outputs": [],
   "source": [
    "# train 없는 날짜 채우기\n",
    "train = train.append([{'fog_train.year':'J',\n",
    "                'fog_train.month':11, \n",
    "                'fog_train.day':3,\n",
    "                'fog_train.time':18, \n",
    "                'fog_train.minute':20,\n",
    "                'fog_train.stn_id':'EC'}], ignore_index=True, sort=True)"
   ]
  },
  {
   "cell_type": "code",
   "execution_count": 57,
   "metadata": {},
   "outputs": [],
   "source": [
    "# 결측치 nan으로 바꾸기\n",
    "train2 = train.replace(-99, np.nan).replace(-99.9, np.nan).replace(-999.0, np.nan)\n",
    "test2 = test.replace(-99, np.nan).replace(-99.9, np.nan).replace(-999.0, np.nan)"
   ]
  },
  {
   "cell_type": "code",
   "execution_count": 58,
   "metadata": {},
   "outputs": [],
   "source": [
    "# 변수 이름 앞에있는 이상한거 제거하기\n",
    "train2.columns = train2.columns.str.replace('fog_train.', '')\n",
    "test2.columns = test2.columns.str.replace('fog_test.', '')"
   ]
  },
  {
   "cell_type": "markdown",
   "metadata": {},
   "source": [
    "#### 3-2) 지역의 유형별로 나누기"
   ]
  },
  {
   "cell_type": "code",
   "execution_count": 59,
   "metadata": {},
   "outputs": [],
   "source": [
    "# A:내륙, B:내륙산간, C:동해, D:서해, E:남해\n",
    "train2['ground'] = train2['stn_id'].str.slice(0, 1)\n",
    "test2['ground'] = test2['stn_id'].str.slice(0, 1)"
   ]
  },
  {
   "cell_type": "markdown",
   "metadata": {},
   "source": [
    "#### 3-3) 연도를 적합하기 좋은 연도로 바꿔주기\n",
    "- 그래프로 그려보기 편하게 I -> 2020 ~ K -> 2022\n",
    "- 빠르게 바꾸도록 하자"
   ]
  },
  {
   "cell_type": "code",
   "execution_count": 60,
   "metadata": {},
   "outputs": [],
   "source": [
    "# 시간\n",
    "train2['hour'] = train2['time']\n",
    "\n",
    "# I, J, K -> 2020 ~ 2022\n",
    "cri = [\n",
    "    train2['year'] == \"I\",\n",
    "    train2['year'] == \"J\"\n",
    "]\n",
    "con = [\n",
    "    2020,\n",
    "    2021\n",
    "]\n",
    "train2['yeartmp'] = np.select(cri, con, default = 2022)\n",
    "\n",
    "# year 값 바꾸기\n",
    "train3 = train2.copy()\n",
    "train3['year'] = train3['yeartmp']\n",
    "train3.drop(['yeartmp'], axis = 1, inplace = True)\n",
    "\n",
    "# 연, 월, 일, 시간, 분을 하나의 datetime 객체로 변환하고 문자열 형식으로 변환\n",
    "train3['DateTime'] = pd.to_datetime(train3[['year', 'month', 'day', 'hour', 'minute']]).dt.strftime('%Y-%m-%d %H:%M')"
   ]
  },
  {
   "cell_type": "markdown",
   "metadata": {},
   "source": [
    "#### 3-4) 이상치 대치\n",
    "\n",
    "- 클래스가 뾰족하게 4 -> 1 -> 4 와 같이 분포하고 있는 것들이 몇개 있다.\n",
    "- 이를 보완하기 위해 다음과 같은 과정을 진행한다.\n",
    "- 단, 1000 이하를 중심으로 맞춰야하는 대회이기 때문에 class를 기준으로 적용하였다."
   ]
  },
  {
   "cell_type": "code",
   "execution_count": 61,
   "metadata": {},
   "outputs": [],
   "source": [
    "# 지역별로 따로따로 적용하자.\n",
    "for c in train3['stn_id'].unique():\n",
    "\n",
    "    # 지역별로 잘라서 이상치 -> 결측치 만들기\n",
    "    tmp = train3[train3['stn_id'] == c]\n",
    "\n",
    "    # lag 만들어서 지난번  class 확인하기\n",
    "    tmp['shift_left_class'] = tmp['class'].shift(1)\n",
    "\n",
    "    # 이전과의 차이 구하기\n",
    "    tmp['diff_left_class'] = tmp['class'] - tmp['shift_left_class']\n",
    "\n",
    "    # lag 만들어서 이다음 class 확인하기\n",
    "    tmp['shift_right_class'] = tmp['class'].shift(-1)\n",
    "\n",
    "    # 이다음과의 차이 구하기\n",
    "    tmp['diff_right_class'] = tmp['class'] - tmp['shift_right_class']\n",
    "\n",
    "    # 인덱스 뽑기\n",
    "    idx = tmp[(abs(tmp['diff_left_class']) >= 2) & (abs(tmp['diff_right_class']) >= 2)].index\n",
    "\n",
    "    # 인덱스 중 가만히 둬야할 인덱스 제외\n",
    "    new_idx = []\n",
    "    for i in idx:\n",
    "        if i-1 not in idx:\n",
    "            new_idx.append(i)\n",
    "\n",
    "    # 인덱스로 처리\n",
    "    new_idx = pd.Index(new_idx)\n",
    "\n",
    "    # 뾰족한 데이터 결측치로 처리하기\n",
    "    train3['class'].iloc[new_idx] = tmp['shift_left_class'][new_idx]\n",
    "    train3['vis1'].iloc[new_idx] = train3['vis1'][new_idx-1]"
   ]
  },
  {
   "cell_type": "markdown",
   "metadata": {},
   "source": [
    "#### 3-5) hm\n",
    "\n",
    "- 습도가 완전히 0이 되는 경우는 존재할 수 없다.\n",
    "- 또한 train에서만 hm이 0인 경우가 1건 존재하였기 때문에 train에서만 0의 값을 과거의 습도와 미래의 습도로 치환해주도록 한다.\n",
    "- 혹여나 test에 습도가 0인 경우가 존재하면 nan값을 적용하여 knn 적용시 채우도록 적용한다."
   ]
  },
  {
   "cell_type": "code",
   "execution_count": 62,
   "metadata": {},
   "outputs": [],
   "source": [
    "# hm이 완전 0인경우 0.00001 더하자\n",
    "train3['hm'][train3['hm'] == 0.0] = 66.3\n",
    "test2['hm'][test2['hm'] == 0.0] = np.nan"
   ]
  },
  {
   "cell_type": "markdown",
   "metadata": {},
   "source": [
    "#### 3-6) 시간적 사이클\n",
    "\n",
    "- 계절에 따른 차이가 존재할 수 있기 때문에 계절에 관한 사이클을 만들어 주도록 하자\n",
    "- 하루 단위로 온도의 변화가 존재하기 때문에 이를 학습시키기 위해 하루 단위를 변화하도록 하자"
   ]
  },
  {
   "cell_type": "code",
   "execution_count": 63,
   "metadata": {},
   "outputs": [],
   "source": [
    "# 시간 사이클 변수\n",
    "train3['sin_time'] = np.sin(2 * np.pi * train3['time'] / 24)\n",
    "train3['cos_time'] = np.cos(2 * np.pi * train3['time'] / 24)\n",
    "\n",
    "test2['sin_time'] = np.sin(2 * np.pi * test2['time'] / 24)\n",
    "test2['cos_time'] = np.cos(2 * np.pi * test2['time'] / 24)"
   ]
  },
  {
   "cell_type": "code",
   "execution_count": 64,
   "metadata": {},
   "outputs": [],
   "source": [
    "# 계절 사이클 변수 - 월별 주기\n",
    "train3['sin_month'] = np.sin(2 * np.pi * train3['month'] / 12)\n",
    "train3['cos_month'] = np.cos(2 * np.pi * train3['month'] / 12)\n",
    "\n",
    "test2['sin_month'] = np.sin(2 * np.pi * test2['month'] / 12)\n",
    "test2['cos_month'] = np.cos(2 * np.pi * test2['month'] / 12)"
   ]
  },
  {
   "cell_type": "markdown",
   "metadata": {},
   "source": [
    "#### 3-7) KNN Imputation\n",
    "\n",
    "- 서로간의 근접 이웃을 통해 값을 유사하게 채워주는 보간법이다.\n",
    "- 내륙, 해안, 산간지방의 5가지 유형을 통해 분해하여 따로 처리해주는 방식을 사용한다.\n",
    "\n",
    "- 다음과 같은 방법으로 결측치를 채우도록 하자\n",
    "\n",
    "> 1. vis1을 제외한 train으로 knnimputator을 적용한 다음 test에 유형에 맞춰 값을 대치한다.\n",
    ">    - 주의할점 : 시간에 관련된 변수는 제외한다. 값을 반영함으로 오히려 방해될 수 있다.\n",
    ">    - 대신 삼각 치환을 통한 변수를 대신 대입하도록 한다.\n",
    "> 2. 대치된 값을 활용하여 vis1을 만들고 class를 채운다.\n",
    ">    - vis1의 변수 조절을 위해 log1p와 expm1 변환을 통해 조절해준다."
   ]
  },
  {
   "cell_type": "code",
   "execution_count": 65,
   "metadata": {},
   "outputs": [],
   "source": [
    "# log1p\n",
    "train3['vis1'] = np.log1p(train3['vis1'])"
   ]
  },
  {
   "cell_type": "code",
   "execution_count": 66,
   "metadata": {},
   "outputs": [
    {
     "name": "stdout",
     "output_type": "stream",
     "text": [
      "The first processing: E ground transforming ...\n",
      "train transforming ....\n",
      "test transforming ....\n",
      "The second processing: E vis1 transforming ...\n",
      "The end of E ground imputate. check this train data\n",
      "The first processing: B ground transforming ...\n",
      "train transforming ....\n",
      "test transforming ....\n",
      "The second processing: B vis1 transforming ...\n",
      "The end of B ground imputate. check this train data\n",
      "The first processing: C ground transforming ...\n",
      "train transforming ....\n",
      "test transforming ....\n",
      "The second processing: C vis1 transforming ...\n",
      "The end of C ground imputate. check this train data\n",
      "The first processing: D ground transforming ...\n",
      "train transforming ....\n",
      "test transforming ....\n",
      "The second processing: D vis1 transforming ...\n",
      "The end of D ground imputate. check this train data\n",
      "The first processing: A ground transforming ...\n",
      "train transforming ....\n",
      "test transforming ....\n",
      "The second processing: A vis1 transforming ...\n",
      "The end of A ground imputate. check this train data\n"
     ]
    }
   ],
   "source": [
    "# imputate with knnimputer\n",
    "for c in ['E', 'B', 'C', 'D', 'A']:\n",
    "    \n",
    "    print(f'The first processing: {c} ground transforming ...')\n",
    "    # 1. train & test knn imputer\n",
    "    knnimputer = KNNImputer()\n",
    "\n",
    "    # train - fit_transform\n",
    "    print(\"train transforming ....\")\n",
    "    train3.loc[train3['ground'] == c, ['re', 'sun10', 'ta', 'ts', 'ws10_deg', 'ws10_ms', 'hm', 'sin_time', 'cos_time', 'cos_month', 'sin_month']] = knnimputer.fit_transform(train3[train3['ground'] == c][['re', 'sun10', 'ta', 'ts', 'ws10_deg', 'ws10_ms', 'hm', 'sin_time', 'cos_time', 'cos_month', 'sin_month']])\n",
    "\n",
    "    # test - transform\n",
    "    print(\"test transforming ....\")\n",
    "    test2.loc[test2['ground'] == c, ['re', 'sun10', 'ta', 'ts', 'ws10_deg', 'ws10_ms', 'hm', 'sin_time', 'cos_time', 'cos_month', 'sin_month']] = knnimputer.transform(test2[test2['ground'] == c][['re', 'sun10', 'ta', 'ts', 'ws10_deg', 'ws10_ms', 'hm', 'sin_time', 'cos_time', 'cos_month', 'sin_month']])\n",
    "    \n",
    "    # 2. vis1 imputater\n",
    "    visimputer = KNNImputer()\n",
    "\n",
    "    print(f'The second processing: {c} vis1 transforming ...')\n",
    "    # only train\n",
    "    train3.loc[train3['ground'] == c, ['re', 'sun10', 'ta', 'ts', 'ws10_deg', 'ws10_ms', 'hm', 'vis1', 'sin_time', 'cos_time', 'cos_month', 'sin_month']] = knnimputer.fit_transform(train3[train3['ground'] == c][['re', 'sun10', 'ta', 'ts', 'ws10_deg', 'ws10_ms', 'hm', 'vis1', 'sin_time', 'cos_time', 'cos_month', 'sin_month']])\n",
    "    print(f'The end of {c} ground imputate. check this train data')"
   ]
  },
  {
   "cell_type": "code",
   "execution_count": 67,
   "metadata": {},
   "outputs": [],
   "source": [
    "# expm1\n",
    "train3['vis1'] = np.expm1(train3['vis1'])"
   ]
  },
  {
   "cell_type": "markdown",
   "metadata": {},
   "source": [
    "#### 3-8) class 계산하기\n",
    "\n",
    "- vis1을 활용하면 class가 계산된다.\n",
    "- 실제로 기준의 범위를 나눌때 vis1 변수를 활용하기 때문에 이번에도 이와 같이 반영해준다."
   ]
  },
  {
   "cell_type": "code",
   "execution_count": 68,
   "metadata": {},
   "outputs": [],
   "source": [
    "# vis1을 활용하여 class 계산해주기\n",
    "# 기준\n",
    "cri = [\n",
    "    (train3['class'].isna()) & (0 < train3['vis1']) & (train3['vis1'] < 200),\n",
    "    (train3['class'].isna()) & (200 <= train3['vis1']) & (train3['vis1'] < 500),\n",
    "    (train3['class'].isna()) & (500 <= train3['vis1']) & (train3['vis1'] < 1000),\n",
    "    (train3['class'].isna()) & (1000 <= train3['vis1'])\n",
    "]\n",
    "\n",
    "# 반영값\n",
    "con = [\n",
    "    1, 2, 3, 4\n",
    "]\n",
    "\n",
    "# train\n",
    "train3['class'] = np.select(cri, con, default = train3['class'])"
   ]
  },
  {
   "cell_type": "markdown",
   "metadata": {},
   "source": [
    "#### 3-9) 후보정 처리\n",
    "- 강수 여부, class와 같은 변수의 경우 정수로 입력되는 값을 받아야 할것이다. 따라서 후보정 처리가 들어가야 하는 변수를 조절해준다.\n",
    "- 방향과 같은 경우 0 ~ 360 사이로 입력되게 만들어주어야 한다."
   ]
  },
  {
   "cell_type": "code",
   "execution_count": 69,
   "metadata": {},
   "outputs": [],
   "source": [
    "# 강수여부 처리\n",
    "train3['re'] = np.where(train3['re'] >= 0.5, 1, 0)\n",
    "test2['re'] = np.where(test2['re'] >= 0.5, 1, 0)"
   ]
  },
  {
   "cell_type": "code",
   "execution_count": 70,
   "metadata": {},
   "outputs": [],
   "source": [
    "# 클래스 데이터 형태 변환\n",
    "train3['class'] = train3['class'].astype(int)\n",
    "# test2['class'] = test2['class'].astype(int)"
   ]
  },
  {
   "cell_type": "markdown",
   "metadata": {},
   "source": [
    "### 4. 파생변수 생성하기\n",
    "\n",
    "#### 4-1) 이슬점 온도\n",
    "\n",
    "- 안개 생기는 기준점을 미리 만들어두자\n",
    "- 이슬점은 지면온도와 기온을 고려했을 때 안개가 생성되게 하는 가장 좋은 기준점이다."
   ]
  },
  {
   "cell_type": "code",
   "execution_count": 71,
   "metadata": {},
   "outputs": [],
   "source": [
    "# Magnus 공식 상수\n",
    "a = 17.27\n",
    "b = 237.7\n",
    "\n",
    "# 알파 값 계산\n",
    "train3['alpha'] = (a * train3['ta']) / (b + train3['ta']) + np.log(train3['hm'] / 100.0)\n",
    "test2['alpha'] = (a * test2['ta']) / (b + test2['ta']) + np.log(test2['hm'] / 100.0)\n",
    "\n",
    "# 이슬점온도 계산\n",
    "train3['dew_point'] = (b * train3['alpha']) / (a - train3['alpha'])\n",
    "test2['dew_point'] = (b * test2['alpha']) / (a - test2['alpha'])"
   ]
  },
  {
   "cell_type": "markdown",
   "metadata": {},
   "source": [
    "#### 4-2) 안개 발생 조건\n",
    "  \n",
    "- 지면 온도 - 이슬점 온도  \n",
    "- 기온 - 이슬점 온도  \n",
    "\n",
    "특징\n",
    "- 기온이나 지면이 이슬점온도보다 낮아지게 되면 안개가 더 잘 발생한다고 알려져 있다.  \n",
    "- 또한 온도의 차이가 낮아질 수록 안개 발생시 안개 농도 정도가 더 진해진다고 한다.  "
   ]
  },
  {
   "cell_type": "code",
   "execution_count": 72,
   "metadata": {},
   "outputs": [],
   "source": [
    "# 온도조건 미리 계산하기\n",
    "train3['diff_air-dew'] = train3['ta'] - train3['dew_point']\n",
    "train3['diff_ts-dew'] = train3['ts'] - train3['dew_point']\n",
    "\n",
    "test2['diff_air-dew'] = test2['ta'] - test2['dew_point']\n",
    "test2['diff_ts-dew'] = test2['ts'] - test2['dew_point']"
   ]
  },
  {
   "cell_type": "markdown",
   "metadata": {},
   "source": [
    "#### 4-3) AWS안개 생성 위험군 분류 지표\n",
    "\n",
    "- AWS에서 사용하고 있는 기준을 가져와 우리 데이터에 맞게 적용시켜보고자 함\n",
    "- 실제로 사용되고 있는 방법인 만큼 큰 효과 있기를 기대하며 생성하는 변수"
   ]
  },
  {
   "cell_type": "code",
   "execution_count": 73,
   "metadata": {},
   "outputs": [],
   "source": [
    "# 안개 위험군 분류 지표\n",
    "# train\n",
    "cri = [\n",
    "    # 5단계: high risk\n",
    "    (train3['hm'] >= 97) & (train3['ws10_ms'] <= 7) & (train3['re'] == 0),\n",
    "\n",
    "    # 4단계: middle risk\n",
    "    (train3['hm'] < 97) & (train3['hm'] >= 95) & (train3['ws10_ms'] <= 7) & (train3['re'] == 0),\n",
    "\n",
    "    # 3단계: Low risk\n",
    "    (train3['hm'] < 95) & (train3['hm'] >= 90) & (train3['ws10_ms'] <= 7) & (train3['re'] == 0),\n",
    "\n",
    "    # 2단계: Risk not estimates\n",
    "    (train3['hm'] >= 90)\n",
    "]\n",
    "\n",
    "con = [\n",
    "    4, 3, 2, 1\n",
    "]\n",
    "\n",
    "train3['fog_risk'] = np.select(cri, con, default = 0)"
   ]
  },
  {
   "cell_type": "code",
   "execution_count": 74,
   "metadata": {},
   "outputs": [],
   "source": [
    "# 안개 위험군 분류 지표\n",
    "# test\n",
    "cri = [\n",
    "    # 5단계: high risk\n",
    "    (test2['hm'] >= 97) & (test2['ws10_ms'] <= 7) & (test2['re'] == 0),\n",
    "\n",
    "    # 4단계: middle risk\n",
    "    (test2['hm'] < 97) & (test2['hm'] >= 95) & (test2['ws10_ms'] <= 7) & (test2['re'] == 0),\n",
    "\n",
    "    # 3단계: Low risk\n",
    "    (test2['hm'] < 95) & (test2['hm'] >= 90) & (test2['ws10_ms'] <= 7) & (test2['re'] == 0),\n",
    "\n",
    "    # 2단계: Risk not estimates\n",
    "    (test2['hm'] >= 90)\n",
    "]\n",
    "\n",
    "con = [\n",
    "    4, 3, 2, 1\n",
    "]\n",
    "\n",
    "test2['fog_risk'] = np.select(cri, con, default = 0)"
   ]
  },
  {
   "cell_type": "markdown",
   "metadata": {},
   "source": [
    "#### 4-4) 연도 원상태로 되돌리기\n",
    "\n",
    "- 연도를 임의로 바꿨기 때문에 다시 되돌리기로 한다."
   ]
  },
  {
   "cell_type": "code",
   "execution_count": 75,
   "metadata": {},
   "outputs": [],
   "source": [
    "# 연도 원상태로 되돌리기\n",
    "cri = [\n",
    "    train3['year'] == 2020,\n",
    "    train3['year'] == 2021,\n",
    "    train3['year'] == 2022,\n",
    "    train3['year'] == '2020.0',\n",
    "    train3['year'] == '2021.0',\n",
    "    train3['year'] == '2022.0',\n",
    "    train3['year'] == 'I',\n",
    "    train3['year'] == 'J',\n",
    "    train3['year'] == 'K',\n",
    "]\n",
    "\n",
    "con = [\n",
    "    'I', 'J', 'K', 'I', 'J', 'K', 'I', 'J', 'K'\n",
    "]\n",
    "train3['year'] = np.select(cri, con, default = 2022)"
   ]
  },
  {
   "cell_type": "markdown",
   "metadata": {},
   "source": [
    "#### 4-5) 풍향\n",
    "\n",
    "- 0 ~ 360으로 이어지게끔 만들어주기 위해 삼각 치환을 활용한다."
   ]
  },
  {
   "cell_type": "code",
   "execution_count": 77,
   "metadata": {},
   "outputs": [],
   "source": [
    "# train\n",
    "train3['sin_deg'] = np.sin(train3['ws10_deg'] * np.pi / 180)\n",
    "train3['cos_deg'] = np.cos(train3['ws10_deg'] * np.pi / 180)"
   ]
  },
  {
   "cell_type": "code",
   "execution_count": 78,
   "metadata": {},
   "outputs": [],
   "source": [
    "# test\n",
    "test2['sin_deg'] = np.sin(test2['ws10_deg'] * np.pi / 180)\n",
    "test2['cos_deg'] = np.cos(test2['ws10_deg'] * np.pi / 180)"
   ]
  },
  {
   "cell_type": "markdown",
   "metadata": {},
   "source": [
    "#### 4-6) ts\n",
    "\n",
    "- 지면온도가 터무니없이 0으로 귀결되는 값이 train에서 존재하기 때문에 이 값을 대치를 적용해야 한다.\n",
    "- knn 이후 적용하는 것이므로 후처리를 적용한다.\n",
    "\n",
    "진행 방법\n",
    "> 1. 뾰족산 제거\n",
    "> 2. 웅덩이 같이 이상치가 지속되는 부분 제거\n",
    "\n",
    "단, 이 과정은 train에 대해서만 적용할 것이며 test에서는 적용하지 않는다 -> dataleakge 고려"
   ]
  },
  {
   "cell_type": "code",
   "execution_count": 194,
   "metadata": {},
   "outputs": [],
   "source": [
    "# 앞뒤로 값 측정하기\n",
    "train3['ts_before'] = train3['ts'].shift(1)\n",
    "train3['ts_after'] = train3['ts'].shift(-1)"
   ]
  },
  {
   "cell_type": "code",
   "execution_count": 195,
   "metadata": {},
   "outputs": [],
   "source": [
    "# 뾰족산 제거\n",
    "train3['ts'] = np.where((abs(train3['ts'] - train3['ts_before']) >= 10) & (abs(train3['ts'] - train3['ts_after']) >= 10), round((train3['ts_before']+train3['ts_after'])/2, 1), train3['ts'])"
   ]
  },
  {
   "cell_type": "code",
   "execution_count": 196,
   "metadata": {},
   "outputs": [],
   "source": [
    "# 제거한 이후 앞의값만 측정하기\n",
    "train3['ts_before'] = train3['ts'].shift(1)"
   ]
  },
  {
   "cell_type": "code",
   "execution_count": 204,
   "metadata": {},
   "outputs": [
    {
     "data": {
      "text/plain": [
       "Int64Index([  27279,   27287,   87060,   87361,  437245,  438544,  509250,\n",
       "             656544,  656548,  656560,  823887,  823890,  917489,  969888,\n",
       "             969890,  969891, 1077366, 1138548, 1138837, 1138996, 1141854,\n",
       "            1399154, 1512629, 1555247, 1626672, 1679214, 1679350, 1679354,\n",
       "            1679790, 1679933, 1753265, 1991711, 1991715, 2061719, 2061721,\n",
       "            2167083, 2230466, 2241726, 2435374, 2435376, 2515888, 2515890,\n",
       "            2535146, 2535285, 2535289, 2598091, 2609484, 2692678, 2695164,\n",
       "            2695166, 2731425, 2731468, 2731492, 2731495, 2747724, 2747726,\n",
       "            2755937, 2755939, 2808346, 2808351, 2811058, 2811099, 2828637,\n",
       "            2828640, 2852844, 2852846, 2855854, 2855856, 2914619, 2914621,\n",
       "            2914622, 2916640],\n",
       "           dtype='int64')"
      ]
     },
     "execution_count": 204,
     "metadata": {},
     "output_type": "execute_result"
    }
   ],
   "source": [
    "train3[(3 <= train3['month']) & (train3['month'] <= 11) & (train3['time'] <= 20) & (train3['time'] >= 7) & (abs(train3['ts'] - train3['ts_before']) >= 15)].index"
   ]
  },
  {
   "cell_type": "code",
   "execution_count": 277,
   "metadata": {},
   "outputs": [],
   "source": [
    "# 위에 있는 인덱스를 통해 수동으로 골라서 적용하기\n",
    "start = [27279, 656544, 969888, 1077366, 1138996, 1141844, 1626671, 1679350, 1991711, 2061719, 2435374, 2515888, 2535285, 2692668, 2695164, 2731492, 2747724, 2755937, 2811058, 2811097, 2828637, 2852844, 2855854, 2914619]\n",
    "end = [27287, 656548, 969892, 1077399, 1138998, 1141854, 1626672, 1679354, 1991715, 2061721, 2435376, 2515890, 2535289, 2692678, 2695166, 2731495, 2747726, 2755939, 2811063, 2811099, 2828640, 2852846, 2855856, 2914622]\n",
    "front = [35.5, 50.3, 47.10, 22.0, 27.20, 30.00, 9.30, -3.52, 31.0, 7.50, 14.8, 26.0, -2.72, 0.20, -0.30, -2.18, 7.70, 33.30, 23.60, 20.30, 20.30, 8.20, 14.8, 55.4, ]\n",
    "back = [52.3, 57.4, 41.80, 19.2, 8.40, 32.26, 19.60, -4.90, 28.1, 7.80, 19.8, 18.1, -4.80, -1.50, -0.20, -2.60, 8.60, 30.96, 29.18, 19.80, 21.00, 9.00, 19.8, 45.2, ]"
   ]
  },
  {
   "cell_type": "code",
   "execution_count": 285,
   "metadata": {},
   "outputs": [],
   "source": [
    "# 값 대입하기\n",
    "for s, e, f, b in zip(start, end, front, back):\n",
    "    train3.loc[s:e, 'ts'] = round((f + b) / 2, 1)"
   ]
  },
  {
   "cell_type": "code",
   "execution_count": 288,
   "metadata": {},
   "outputs": [],
   "source": [
    "# 제거한 이후 앞의값만 측정하기\n",
    "train3['ts_before'] = train3['ts'].shift(1)"
   ]
  },
  {
   "cell_type": "code",
   "execution_count": 291,
   "metadata": {},
   "outputs": [],
   "source": [
    "# ts관련 변수 제거\n",
    "train3.drop(['ts_before', 'ts_after'], axis = 1, inplace = True)"
   ]
  },
  {
   "cell_type": "code",
   "execution_count": 292,
   "metadata": {},
   "outputs": [],
   "source": [
    "# save the data\n",
    "train3.to_csv('../data/train_final_preprocess.csv', index = False)\n",
    "test2.to_csv('../data/test_final_preprocess.csv', index = False)"
   ]
  }
 ],
 "metadata": {
  "kernelspec": {
   "display_name": "ss",
   "language": "python",
   "name": "python3"
  },
  "language_info": {
   "codemirror_mode": {
    "name": "ipython",
    "version": 3
   },
   "file_extension": ".py",
   "mimetype": "text/x-python",
   "name": "python",
   "nbconvert_exporter": "python",
   "pygments_lexer": "ipython3",
   "version": "3.8.19"
  }
 },
 "nbformat": 4,
 "nbformat_minor": 2
}
