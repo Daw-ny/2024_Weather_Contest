{
 "cells": [
  {
   "cell_type": "markdown",
   "metadata": {},
   "source": [
    "# **💁🏻🗨️💁🏻‍♂️안개 예측 EDA code**\n",
    "> **안개량 예측** 경진대회에 오신 여러분 환영합니다! 🎉    \n",
    "> 본 대회에서는 최대 10명이 참여할 수 있는 기상청 주관 날씨 빅데이터 경진대회 입니다.     \n",
    "> 주어진 데이터를 활용하여 안개 상태의 구간을 예측할 수 있는 모델을 만드는 것이 목표입니다!\n",
    "\n",
    "# Contents  \n",
    "  \n",
    "- 필요한 라이브러리 설치  \n",
    "- 데이터 불러오기  \n",
    "- 데이터 결측치 처리하기\n",
    "- 모델 적합하기\n",
    "- 추론하기\n",
    "- 제출물 만들기\n",
    "\n",
    "완전히 초기화 되어있는 상태에서 작성하였기 때문에 단순하게 적용한 방법에서 변경해 나갈 예정"
   ]
  },
  {
   "cell_type": "markdown",
   "metadata": {},
   "source": [
    "### 1. 필요한 라이브러리 설치"
   ]
  },
  {
   "cell_type": "markdown",
   "metadata": {},
   "source": [
    "- 필요한 라이브러리를 설치한 후 불러옵니다."
   ]
  },
  {
   "cell_type": "code",
   "execution_count": 84,
   "metadata": {},
   "outputs": [],
   "source": [
    "# basic\n",
    "import os, random\n",
    "import pandas as pd\n",
    "import numpy as np\n",
    "\n",
    "# model\n",
    "from sklearn.tree import DecisionTreeClassifier\n",
    "\n",
    "# 경고 무시\n",
    "import warnings\n",
    "warnings.filterwarnings('ignore')"
   ]
  },
  {
   "cell_type": "code",
   "execution_count": 85,
   "metadata": {},
   "outputs": [],
   "source": [
    "# random seed 고정하기\n",
    "def seed_everything(seed):\n",
    "    random.seed(seed)\n",
    "    os.environ['PYTHONHASHSEED'] = str(seed)\n",
    "    np.random.seed(seed)\n",
    "\n",
    "seed_everything(42) # Seed 고정"
   ]
  },
  {
   "cell_type": "markdown",
   "metadata": {},
   "source": [
    "### 2. 데이터 불러오기\n",
    "- 제공된 데이터를 불러옵니다.\n",
    "\n",
    "> - year : 년도\n",
    "> - month : 월\n",
    "> - day : 일\n",
    "> - hour : 시간\n",
    "> - minute : 분(10분 단위)\n",
    "> - stn_id : 지점 번호\n",
    "> - ws10_deg : 10분 평균 풍향, deg\n",
    "> - ws10_ms : 10분 평균 풍속, m/s\n",
    "> - ta : 1분 평균 기온 10분 주기, 섭씨\n",
    "> - re : 강수 유무 0:무강수, 1:강수\n",
    "> - hm : 1분 평균 상대 습도 10분 주기, %\n",
    "> - sun10 : 1분 일사량 10분 단위 합계, MJ\n",
    "> - ts : 1분 평균 지면온도 10분 주기, 섭씨\n",
    "\n",
    "- test 없는 데이터 값\n",
    "> - vis1 : 1분 평균 시정 10분 주기, m\n",
    "> - class : 시정 구간\n",
    "\n",
    "시정 구간은 다음과 같다.\n",
    "- 0초과 200미만 : 1\n",
    "- 200이상 500미만 : 2\n",
    "- 500이상 1000미만 : 3\n",
    "- 1000이상 : 4\n",
    "- 4번은 맞춰도 스코어가 증가하진 않지만 틀리면 감점"
   ]
  },
  {
   "cell_type": "code",
   "execution_count": 86,
   "metadata": {},
   "outputs": [],
   "source": [
    "# load makes data\n",
    "train = pd.read_csv('../data/fog_train.csv')\n",
    "test = pd.read_csv('../data/fog_test.csv')"
   ]
  },
  {
   "cell_type": "code",
   "execution_count": 87,
   "metadata": {},
   "outputs": [],
   "source": [
    "# 쓸데없는 열 제거\n",
    "train.drop(['Unnamed: 0'], axis = 1, inplace = True)\n",
    "test.drop(['Unnamed: 0'], axis = 1, inplace = True)"
   ]
  },
  {
   "cell_type": "code",
   "execution_count": 88,
   "metadata": {},
   "outputs": [],
   "source": [
    "# 결측치 nan으로 바꾸기\n",
    "train2 = train.replace(-99, np.nan).replace(-99.9, np.nan).replace(-999.0, np.nan)\n",
    "test2 = test.replace(-99, np.nan).replace(-99.9, np.nan).replace(-999.0, np.nan)"
   ]
  },
  {
   "cell_type": "code",
   "execution_count": 89,
   "metadata": {},
   "outputs": [],
   "source": [
    "# 변수 이름 앞에있는 이상한거 제거하기\n",
    "train2.columns = train2.columns.str.replace('fog_train.', '')\n",
    "test2.columns = test2.columns.str.replace('fog_test.', '')"
   ]
  },
  {
   "cell_type": "markdown",
   "metadata": {},
   "source": [
    "### 3. 결측값 대치하기\n",
    "\n",
    "- 단순하게 결측값 대치하기: 각각 중앙값으로 대치"
   ]
  },
  {
   "cell_type": "code",
   "execution_count": 90,
   "metadata": {},
   "outputs": [
    {
     "data": {
      "text/plain": [
       "Index(['month', 'day', 'time', 'minute', 'ws10_deg', 'ws10_ms', 'ta', 're',\n",
       "       'hm', 'sun10', 'ts', 'vis1', 'class'],\n",
       "      dtype='object')"
      ]
     },
     "execution_count": 90,
     "metadata": {},
     "output_type": "execute_result"
    }
   ],
   "source": [
    "# 대치할 중위수\n",
    "med_train = train2.median()\n",
    "med_train.index"
   ]
  },
  {
   "cell_type": "code",
   "execution_count": 91,
   "metadata": {},
   "outputs": [],
   "source": [
    "# 결측치 채우기\n",
    "for c in med_train.index:\n",
    "    if c == 'vis1':\n",
    "        continue\n",
    "    train2[c][train2[c].isna()] = med_train[c]\n",
    "    test2[c][test2[c].isna()] = med_train[c]"
   ]
  },
  {
   "cell_type": "markdown",
   "metadata": {},
   "source": [
    "### 4. 모델 적합하기\n",
    "\n",
    "- 간단하게 decision tree를 통해 baseline을 형성하고자 한다.\n",
    "- class로 분해를 적용할 예정"
   ]
  },
  {
   "cell_type": "code",
   "execution_count": 92,
   "metadata": {},
   "outputs": [],
   "source": [
    "# label 선택하기\n",
    "use_label_x = ['month', 'time', 'ws10_deg', 'ws10_ms', 'ta', 're',\n",
    "       'hm', 'sun10', 'ts']\n",
    "\n",
    "use_label_y = ['class']"
   ]
  },
  {
   "cell_type": "code",
   "execution_count": 93,
   "metadata": {},
   "outputs": [],
   "source": [
    "# train_x, train_y, test_x 만들자\n",
    "train_x = train2[use_label_x]\n",
    "train_y = train2[use_label_y]\n",
    "\n",
    "test_x = test2[use_label_x]"
   ]
  },
  {
   "cell_type": "code",
   "execution_count": 94,
   "metadata": {},
   "outputs": [],
   "source": [
    "# model\n",
    "dt = DecisionTreeClassifier()"
   ]
  },
  {
   "cell_type": "code",
   "execution_count": 95,
   "metadata": {},
   "outputs": [
    {
     "data": {
      "text/html": [
       "<style>#sk-container-id-3 {color: black;background-color: white;}#sk-container-id-3 pre{padding: 0;}#sk-container-id-3 div.sk-toggleable {background-color: white;}#sk-container-id-3 label.sk-toggleable__label {cursor: pointer;display: block;width: 100%;margin-bottom: 0;padding: 0.3em;box-sizing: border-box;text-align: center;}#sk-container-id-3 label.sk-toggleable__label-arrow:before {content: \"▸\";float: left;margin-right: 0.25em;color: #696969;}#sk-container-id-3 label.sk-toggleable__label-arrow:hover:before {color: black;}#sk-container-id-3 div.sk-estimator:hover label.sk-toggleable__label-arrow:before {color: black;}#sk-container-id-3 div.sk-toggleable__content {max-height: 0;max-width: 0;overflow: hidden;text-align: left;background-color: #f0f8ff;}#sk-container-id-3 div.sk-toggleable__content pre {margin: 0.2em;color: black;border-radius: 0.25em;background-color: #f0f8ff;}#sk-container-id-3 input.sk-toggleable__control:checked~div.sk-toggleable__content {max-height: 200px;max-width: 100%;overflow: auto;}#sk-container-id-3 input.sk-toggleable__control:checked~label.sk-toggleable__label-arrow:before {content: \"▾\";}#sk-container-id-3 div.sk-estimator input.sk-toggleable__control:checked~label.sk-toggleable__label {background-color: #d4ebff;}#sk-container-id-3 div.sk-label input.sk-toggleable__control:checked~label.sk-toggleable__label {background-color: #d4ebff;}#sk-container-id-3 input.sk-hidden--visually {border: 0;clip: rect(1px 1px 1px 1px);clip: rect(1px, 1px, 1px, 1px);height: 1px;margin: -1px;overflow: hidden;padding: 0;position: absolute;width: 1px;}#sk-container-id-3 div.sk-estimator {font-family: monospace;background-color: #f0f8ff;border: 1px dotted black;border-radius: 0.25em;box-sizing: border-box;margin-bottom: 0.5em;}#sk-container-id-3 div.sk-estimator:hover {background-color: #d4ebff;}#sk-container-id-3 div.sk-parallel-item::after {content: \"\";width: 100%;border-bottom: 1px solid gray;flex-grow: 1;}#sk-container-id-3 div.sk-label:hover label.sk-toggleable__label {background-color: #d4ebff;}#sk-container-id-3 div.sk-serial::before {content: \"\";position: absolute;border-left: 1px solid gray;box-sizing: border-box;top: 0;bottom: 0;left: 50%;z-index: 0;}#sk-container-id-3 div.sk-serial {display: flex;flex-direction: column;align-items: center;background-color: white;padding-right: 0.2em;padding-left: 0.2em;position: relative;}#sk-container-id-3 div.sk-item {position: relative;z-index: 1;}#sk-container-id-3 div.sk-parallel {display: flex;align-items: stretch;justify-content: center;background-color: white;position: relative;}#sk-container-id-3 div.sk-item::before, #sk-container-id-3 div.sk-parallel-item::before {content: \"\";position: absolute;border-left: 1px solid gray;box-sizing: border-box;top: 0;bottom: 0;left: 50%;z-index: -1;}#sk-container-id-3 div.sk-parallel-item {display: flex;flex-direction: column;z-index: 1;position: relative;background-color: white;}#sk-container-id-3 div.sk-parallel-item:first-child::after {align-self: flex-end;width: 50%;}#sk-container-id-3 div.sk-parallel-item:last-child::after {align-self: flex-start;width: 50%;}#sk-container-id-3 div.sk-parallel-item:only-child::after {width: 0;}#sk-container-id-3 div.sk-dashed-wrapped {border: 1px dashed gray;margin: 0 0.4em 0.5em 0.4em;box-sizing: border-box;padding-bottom: 0.4em;background-color: white;}#sk-container-id-3 div.sk-label label {font-family: monospace;font-weight: bold;display: inline-block;line-height: 1.2em;}#sk-container-id-3 div.sk-label-container {text-align: center;}#sk-container-id-3 div.sk-container {/* jupyter's `normalize.less` sets `[hidden] { display: none; }` but bootstrap.min.css set `[hidden] { display: none !important; }` so we also need the `!important` here to be able to override the default hidden behavior on the sphinx rendered scikit-learn.org. See: https://github.com/scikit-learn/scikit-learn/issues/21755 */display: inline-block !important;position: relative;}#sk-container-id-3 div.sk-text-repr-fallback {display: none;}</style><div id=\"sk-container-id-3\" class=\"sk-top-container\"><div class=\"sk-text-repr-fallback\"><pre>DecisionTreeClassifier()</pre><b>In a Jupyter environment, please rerun this cell to show the HTML representation or trust the notebook. <br />On GitHub, the HTML representation is unable to render, please try loading this page with nbviewer.org.</b></div><div class=\"sk-container\" hidden><div class=\"sk-item\"><div class=\"sk-estimator sk-toggleable\"><input class=\"sk-toggleable__control sk-hidden--visually\" id=\"sk-estimator-id-3\" type=\"checkbox\" checked><label for=\"sk-estimator-id-3\" class=\"sk-toggleable__label sk-toggleable__label-arrow\">DecisionTreeClassifier</label><div class=\"sk-toggleable__content\"><pre>DecisionTreeClassifier()</pre></div></div></div></div></div>"
      ],
      "text/plain": [
       "DecisionTreeClassifier()"
      ]
     },
     "execution_count": 95,
     "metadata": {},
     "output_type": "execute_result"
    }
   ],
   "source": [
    "# train\n",
    "dt.fit(train_x, train_y)"
   ]
  },
  {
   "cell_type": "markdown",
   "metadata": {},
   "source": [
    "### 5. 추론하기\n",
    "\n",
    "- 대입하여 추론하기"
   ]
  },
  {
   "cell_type": "code",
   "execution_count": 96,
   "metadata": {},
   "outputs": [],
   "source": [
    "pred = dt.predict(test_x)"
   ]
  },
  {
   "cell_type": "markdown",
   "metadata": {},
   "source": [
    "### 6. 결과물 출력하기\n",
    "\n",
    "- class에 대해 두가지 버전으로 출력할 예정\n",
    "1. 결측치 아닌것은 제외시키기\n",
    "2. 결측치까지 모두 대입해주기"
   ]
  },
  {
   "cell_type": "code",
   "execution_count": 97,
   "metadata": {},
   "outputs": [],
   "source": [
    "# 복제\n",
    "test_submit1 = test.copy()\n",
    "test_submit2 = test.copy()"
   ]
  },
  {
   "cell_type": "code",
   "execution_count": 98,
   "metadata": {},
   "outputs": [],
   "source": [
    "# 1. 모든 값에 대해 대입하기\n",
    "test_submit1['fog_test.class'] = pred"
   ]
  },
  {
   "cell_type": "code",
   "execution_count": 99,
   "metadata": {},
   "outputs": [],
   "source": [
    "# 결측치가 아닌것에 대입하기\n",
    "test_submit2['fog_test.class'] = np.where(test_submit2['fog_test.class'].isna(), pred, test_submit2['fog_test.class'])"
   ]
  },
  {
   "cell_type": "code",
   "execution_count": 106,
   "metadata": {},
   "outputs": [],
   "source": [
    "# 저장하기\n",
    "test_submit1.to_csv('../Data/submission_모든값.csv', index = False)\n",
    "test_submit2.to_csv('../Data/submission_-99제외.csv', index = False)\n",
    "# 제출시 다음과 같은 이름으로 적용해야함\n",
    "# test_submit1.to_csv('../Data/240253.csv', index = False)"
   ]
  },
  {
   "cell_type": "code",
   "execution_count": 102,
   "metadata": {},
   "outputs": [
    {
     "data": {
      "text/plain": [
       " 4.0     256752\n",
       "-99.0      2694\n",
       " 3.0       1490\n",
       " 2.0       1105\n",
       " 1.0        759\n",
       "Name: fog_test.class, dtype: int64"
      ]
     },
     "execution_count": 102,
     "metadata": {},
     "output_type": "execute_result"
    }
   ],
   "source": [
    "test_submit2['fog_test.class'].value_counts()"
   ]
  },
  {
   "cell_type": "code",
   "execution_count": 103,
   "metadata": {},
   "outputs": [
    {
     "data": {
      "text/plain": [
       "4.0    259398\n",
       "3.0      1513\n",
       "2.0      1115\n",
       "1.0       774\n",
       "Name: fog_test.class, dtype: int64"
      ]
     },
     "execution_count": 103,
     "metadata": {},
     "output_type": "execute_result"
    }
   ],
   "source": [
    "test_submit1['fog_test.class'].value_counts()"
   ]
  }
 ],
 "metadata": {
  "kernelspec": {
   "display_name": "ss",
   "language": "python",
   "name": "python3"
  },
  "language_info": {
   "codemirror_mode": {
    "name": "ipython",
    "version": 3
   },
   "file_extension": ".py",
   "mimetype": "text/x-python",
   "name": "python",
   "nbconvert_exporter": "python",
   "pygments_lexer": "ipython3",
   "version": "3.8.19"
  }
 },
 "nbformat": 4,
 "nbformat_minor": 2
}
